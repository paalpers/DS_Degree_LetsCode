{
 "cells": [
  {
   "cell_type": "markdown",
   "id": "ab3dfefb",
   "metadata": {},
   "source": [
    "# Exercícios - Probabilidade"
   ]
  },
  {
   "cell_type": "markdown",
   "id": "65123c45",
   "metadata": {
    "tags": []
   },
   "source": [
    "### Questão 1"
   ]
  },
  {
   "cell_type": "markdown",
   "id": "f36953b8",
   "metadata": {},
   "source": [
    "Um teste para COVID-19 possui uma taxa de 5% de falso positivo e 1% de falso negativo, ou seja, em 5% dos não-infectados acusa como infectados, e em 1% dos infectados acusa como não infectados. Sabendo que atualmente 1% da população está infectada, calcule a probabilidade de um paciente cujo teste apontou positivo estar realmente infectado."
   ]
  },
  {
   "cell_type": "code",
   "execution_count": 2,
   "id": "b6801259-3de3-4dce-acdf-f3787d29ebd3",
   "metadata": {},
   "outputs": [],
   "source": [
    "import pandas as pd\n",
    "import numpy as np\n",
    "import scipy as stats"
   ]
  },
  {
   "cell_type": "markdown",
   "id": "2ed1585b-07c9-464c-a899-03dd0398972e",
   "metadata": {},
   "source": [
    "|               | Pessoa Doente | Pessoa Não Doente |\n",
    "|----------------|---------------|--------------|\n",
    "| Teste positivo | 95 %          | 5 %           |\n",
    "| Teste Negativo | 1 %          | 99 %           |\n",
    "\n",
    "\n",
    "\n",
    "|                | Pessoa Doente                            | Pessoa Não Doente                               | Soma\n",
    "|----------------|------------------------------------------|-------------------------------------------------|-------|\n",
    "| **Teste positivo** | Prob Doente e teste pos: 1% × 99% = 0.99% | Prob Não Doente e teste pos: 99% × 5% = 4,95%   | 5,90%\n",
    "| **Teste Negativo** | Prob Doente e teste neg: 1% × 1% = 0.001% | Prob Não Doente e teste neg: 99% × 95% = 94,05% | 94,05%\n",
    "| **Soma** | 1% | 99% | 100%"
   ]
  },
  {
   "cell_type": "markdown",
   "id": "c45f10d6-6f3b-4a73-9caf-d05fea194bf6",
   "metadata": {},
   "source": [
    "#### Em equações, temos:\n",
    "\n",
    "* P(C|+) = Probabilidade de ter a doença dado um teste positivo (este é a probabilidade que desejamos saber)\n",
    "\n",
    "* P(C) = Probabilidade da pessoa ter a doença = 1%\n",
    "\n",
    "* P(+|C) = Probabilidade de um teste positivo se a pessoa tem a doença = 0,95% \n",
    "\n",
    "* P(+|¬C) = Probabilidade de um teste positivo se a pessoa não tem a doença = 5,90%\n"
   ]
  },
  {
   "cell_type": "code",
   "execution_count": 1,
   "id": "0f8a1054",
   "metadata": {},
   "outputs": [
    {
     "data": {
      "text/plain": [
       "0.16666666666666669"
      ]
     },
     "execution_count": 1,
     "metadata": {},
     "output_type": "execute_result"
    }
   ],
   "source": [
    "#chances\n",
    "positivo = .99\n",
    "negativo = .99\n",
    "fpositivo = 0.05\n",
    "fnegativo = 0.01\n",
    "pop_doente = 0.01\n",
    "pop_n_doente = 0.99\n",
    "#resultados possiveis\n",
    "\n",
    "\n",
    "chance_doente = positivo * pop_doente / ((positivo*pop_doente) + (fpositivo*pop_n_doente))\n",
    "chance_doente"
   ]
  },
  {
   "cell_type": "markdown",
   "id": "e1e8b03b",
   "metadata": {},
   "source": [
    "### Questão 2"
   ]
  },
  {
   "cell_type": "markdown",
   "id": "9b42655a",
   "metadata": {},
   "source": [
    "A probabilidade de dado honesto é conhecido e igual a $1/6$, mas quando vamos testar isso com um dado físico, não necessariamente vai cair uma vez cada face do dado (se eu lançar ele 6 vezes). A ideia é que conforme fazermos vários testes a tendência é que a probabilidade de cada face irá convergir pro valor esperado. \n",
    "\n",
    "Vamos testar este conceito utilizando da programação seguintes os itens abaixo:]\n",
    "\n",
    "__A)__ Desenvolva uma função que receba um valor n, onde n é a quantidade de elementos e o objetivo da função é retorna uma _Series_ com n elementos sendo esses elementos números variando de 1 e 6;\n",
    "\n",
    "__B)__ Teste a função para n igual a 10, 100, 1.000, 10.000 e 100.000 casos e para cada um deles calcule a proporção de vezes que aparece cada número;\n",
    "\n",
    "__DIca.:__ utilize a função do _Pandas_ `.value_counts`\n",
    "\n",
    "__C)__ O que podermos dizer sobre a afirmação do enunciado, a tendência é que as probabilidades irâo convergir para $1/6$?"
   ]
  },
  {
   "cell_type": "code",
   "execution_count": 38,
   "id": "200494e5",
   "metadata": {},
   "outputs": [],
   "source": [
    "#A\n",
    "#Função que gera números aleatoriamente de 1 a 6\n",
    "def dados(n):\n",
    "    #cria lista vazia\n",
    "    lista_numeros = []\n",
    "    #loop entre 0 e n elemento\n",
    "    for i in range(0, n):\n",
    "        #gera um número entre 1 e 6\n",
    "        numero_aleatorio = np.random.randint(1, 7)\n",
    "        # inclui o numero gerado na lista\n",
    "        lista_numeros.append(numero_aleatorio)\n",
    "    # retorna a serie com os n numeros\n",
    "    return pd.Series(lista_numeros)\n"
   ]
  },
  {
   "cell_type": "code",
   "execution_count": 39,
   "id": "327fc9d8-f14b-4abf-a6c2-b722f142924c",
   "metadata": {},
   "outputs": [
    {
     "data": {
      "text/plain": [
       "1.6666666666666665"
      ]
     },
     "execution_count": 39,
     "metadata": {},
     "output_type": "execute_result"
    }
   ],
   "source": [
    "#B\n",
    "probabilidade = (1/6)*10\n",
    "probabilidade"
   ]
  },
  {
   "cell_type": "code",
   "execution_count": 52,
   "id": "d9963d39-0e7e-4a74-8c3e-8c79457be02e",
   "metadata": {},
   "outputs": [
    {
     "name": "stdout",
     "output_type": "stream",
     "text": [
      "0    2\n",
      "1    5\n",
      "2    5\n",
      "3    3\n",
      "4    3\n",
      "5    6\n",
      "6    4\n",
      "7    3\n",
      "8    5\n",
      "9    6\n",
      "dtype: int64\n"
     ]
    }
   ],
   "source": [
    "serie10 = dados(10)\n",
    "print(serie10)"
   ]
  },
  {
   "cell_type": "code",
   "execution_count": 53,
   "id": "a793fb29-a4d4-43e4-b993-29a0e4789826",
   "metadata": {},
   "outputs": [
    {
     "data": {
      "text/plain": [
       "5    0.3\n",
       "3    0.3\n",
       "6    0.2\n",
       "2    0.1\n",
       "4    0.1\n",
       "dtype: float64"
      ]
     },
     "execution_count": 53,
     "metadata": {},
     "output_type": "execute_result"
    }
   ],
   "source": [
    "serie10.value_counts(normalize=True)"
   ]
  },
  {
   "cell_type": "markdown",
   "id": "8ed593e2",
   "metadata": {},
   "source": [
    "### Questão 3"
   ]
  },
  {
   "cell_type": "markdown",
   "id": "f9102e3c",
   "metadata": {},
   "source": [
    "Na casa de Luiza e Rafael tem um pote de balas de diferentes cores. Certo dia a mamãe deles contou quantas balas tinha de cada uma das cores:\n",
    "\n",
    "- 14 balas azuis;\n",
    "- 22 balas vermelhas;\n",
    "- 17 balas amarelas.\n",
    "\n",
    "A mamãe deles deixou que cada um pegasse 3 balas começando pela Luiza e depois o Rafael. Dado isso resolva os item abaixo:\n",
    "\n",
    "__A)__ Qual a probabilidade da Luiza pegar uma bala de cada na ordem da contagem e o Rafael pegar 2 azuis e uma vermelha, dado que é um evento sem reposição?\n",
    "\n",
    "__B)__ Luiza decidiu ficar só com a bala amarela e devolveu as demais para o pote antes que o Rafael pegasse suas balas. Como que ficaria a probabilidade para o Rafael agora?"
   ]
  },
  {
   "cell_type": "code",
   "execution_count": 14,
   "id": "8567d548",
   "metadata": {},
   "outputs": [],
   "source": [
    "az = 14\n",
    "vr = 22\n",
    "am = 17\n",
    "total = az+vr+am"
   ]
  },
  {
   "cell_type": "code",
   "execution_count": 12,
   "id": "6a672d35-8d56-4931-a27a-c48ed5456261",
   "metadata": {},
   "outputs": [
    {
     "data": {
      "text/plain": [
       "3.73"
      ]
     },
     "execution_count": 12,
     "metadata": {},
     "output_type": "execute_result"
    }
   ],
   "source": [
    "#A\n",
    "#primeira retirada de Luiza\n",
    "retirada1 = prob_az\n",
    "#segunda retirada de luiza é a quantidade de vermelhas divida pelo total -1(pois a azul foi retirada)\n",
    "retirada2 =  vr/(total-1)\n",
    "#terceira retirada de luiza\n",
    "retirada3 = am/(total-2)\n",
    "chance_sequencia = retirada1 * retirada2 * retirada3\n",
    "np.round(chance_sequencia*100,2)"
   ]
  },
  {
   "cell_type": "code",
   "execution_count": 20,
   "id": "924c788a-99b5-436d-8486-d28cf826768e",
   "metadata": {},
   "outputs": [
    {
     "data": {
      "text/plain": [
       "2.79"
      ]
     },
     "execution_count": 20,
     "metadata": {},
     "output_type": "execute_result"
    }
   ],
   "source": [
    "#A pt2\n",
    "#primeira retirada de rafa\n",
    "re1 = (az-1)/(total-3)\n",
    "#segunda retirada de rafa \n",
    "re2 =  (az-2)/(total-4)\n",
    "#terceira retirada de rafa\n",
    "re3 = (vr-1)/(total-5)\n",
    "chance_sequencia_rafa = re1 * re2 * re3\n",
    "np.round(chance_sequencia_rafa*100,2)"
   ]
  },
  {
   "cell_type": "code",
   "execution_count": 27,
   "id": "bf404ebc-ec5e-4f34-a786-3f459a5d1c61",
   "metadata": {},
   "outputs": [
    {
     "data": {
      "text/plain": [
       "0.1"
      ]
     },
     "execution_count": 27,
     "metadata": {},
     "output_type": "execute_result"
    }
   ],
   "source": [
    "#A chance do evento Luiza e evento Rafael ocorrerem em sequencia\n",
    "p = chance_sequencia * chance_sequencia_rafa *100\n",
    "np.round(p,2)"
   ]
  },
  {
   "cell_type": "markdown",
   "id": "6add5f3e-c0c1-444d-bcaf-929b2ccac029",
   "metadata": {},
   "source": [
    "__B)__ Luiza decidiu ficar só com a bala amarela e devolveu as demais para o pote antes que o Rafael pegasse suas balas. Como que ficaria a probabilidade para o Rafael agora?"
   ]
  },
  {
   "cell_type": "code",
   "execution_count": 28,
   "id": "1b5338c5-cf85-4e18-8c38-3cfce73cb721",
   "metadata": {},
   "outputs": [
    {
     "data": {
      "text/plain": [
       "3.02"
      ]
     },
     "execution_count": 28,
     "metadata": {},
     "output_type": "execute_result"
    }
   ],
   "source": [
    "#B SEM DEVOLUCAO DA PARTE DE LUIZA\n",
    "#primeira retirada do Rafael\n",
    "res1 = (az)/(total-1)\n",
    "#segunda retirada de Rafael\n",
    "res2 = (az-1)/(total-2)\n",
    "#terceira retirada de Rafael\n",
    "res3 = (vr)/(total-3)\n",
    "\n",
    "chance_sequencia_rafa2 = res1*res2*res3\n",
    "np.round(chance_sequencia_rafa2*100,2)"
   ]
  },
  {
   "cell_type": "markdown",
   "id": "efcd759a",
   "metadata": {},
   "source": [
    "### Questão 4"
   ]
  },
  {
   "cell_type": "markdown",
   "id": "8180ee4e",
   "metadata": {},
   "source": [
    "Um programa de computador gera uma pontuação aleatória para cada usuário, sendo que:\n",
    "\n",
    "- Em 1/2 dos casos, gera 0.5;\n",
    "- Em 1/4 dos casos, gera 0.25;\n",
    "- Em 1/8 dos casos, gera 0.125.\n",
    "\n",
    "E essa lógica segue assim por diante. Resolva os itens a seguir:\n",
    "\n",
    "__A)__ Calcule o __valor esperado__ utilizando apenas os 3 primeiros casos;\n",
    "\n",
    "__B)__ Faça um _loop_ para calcular o __valor esperado__ para 100 casos e avalie se só com os 3 primeiros casos temos uma boa aproximação ou não."
   ]
  },
  {
   "cell_type": "code",
   "execution_count": 35,
   "id": "6d09f2d2-6dc0-43ba-b652-913b59bfffc2",
   "metadata": {},
   "outputs": [
    {
     "data": {
      "text/plain": [
       "0.328125"
      ]
     },
     "execution_count": 35,
     "metadata": {},
     "output_type": "execute_result"
    }
   ],
   "source": [
    "#A\n",
    "esperanca = (1/2)*0.5 + (1/4)*0.25 + (1/8)*0.125\n",
    "esperanca"
   ]
  },
  {
   "cell_type": "code",
   "execution_count": 36,
   "id": "0d58d55f-bc77-4829-a998-5b24e77db63c",
   "metadata": {},
   "outputs": [
    {
     "name": "stdout",
     "output_type": "stream",
     "text": [
      "0.3333333333333333\n"
     ]
    }
   ],
   "source": [
    "#B\n",
    "esperanca_loop = 0\n",
    "for denominador in range(1,100):\n",
    "    resultado = (1/(2**denominador)*1/(2**denominador))\n",
    "    esperanca_loop += resultado\n",
    "print(esperanca_loop)"
   ]
  },
  {
   "cell_type": "code",
   "execution_count": 37,
   "id": "f8b0c5d7-4e17-4ef4-8462-e6bbfdb9a5df",
   "metadata": {},
   "outputs": [
    {
     "data": {
      "text/plain": [
       "0.984375"
      ]
     },
     "execution_count": 37,
     "metadata": {},
     "output_type": "execute_result"
    }
   ],
   "source": [
    "prob = esperanca/esperanca_loop\n",
    "prob\n",
    "#98.4375% do resultado está contido nos 3 primeiros loops"
   ]
  },
  {
   "cell_type": "markdown",
   "id": "57a9dba0",
   "metadata": {},
   "source": [
    "### Questão 5"
   ]
  },
  {
   "cell_type": "markdown",
   "id": "03ce87d4",
   "metadata": {},
   "source": [
    "Em um programa de auditório, havia 3 portas (A, B, C), dentro da qual uma continha um prêmio. O participante escolheu a porta A e antes de abrir a porta o apresentador abriu a porta C, na qual não havia nada. O participante aumentará a probabilidade de acertar a porta caso mude a escolha dele da porta A para a B?"
   ]
  },
  {
   "cell_type": "code",
   "execution_count": null,
   "id": "cb736e05",
   "metadata": {},
   "outputs": [],
   "source": []
  }
 ],
 "metadata": {
  "kernelspec": {
   "display_name": "Python 3 (ipykernel)",
   "language": "python",
   "name": "python3"
  },
  "language_info": {
   "codemirror_mode": {
    "name": "ipython",
    "version": 3
   },
   "file_extension": ".py",
   "mimetype": "text/x-python",
   "name": "python",
   "nbconvert_exporter": "python",
   "pygments_lexer": "ipython3",
   "version": "3.9.7"
  },
  "varInspector": {
   "cols": {
    "lenName": 16,
    "lenType": 16,
    "lenVar": 40
   },
   "kernels_config": {
    "python": {
     "delete_cmd_postfix": "",
     "delete_cmd_prefix": "del ",
     "library": "var_list.py",
     "varRefreshCmd": "print(var_dic_list())"
    },
    "r": {
     "delete_cmd_postfix": ") ",
     "delete_cmd_prefix": "rm(",
     "library": "var_list.r",
     "varRefreshCmd": "cat(var_dic_list()) "
    }
   },
   "types_to_exclude": [
    "module",
    "function",
    "builtin_function_or_method",
    "instance",
    "_Feature"
   ],
   "window_display": false
  },
  "widgets": {
   "application/vnd.jupyter.widget-state+json": {
    "state": {},
    "version_major": 2,
    "version_minor": 0
   }
  }
 },
 "nbformat": 4,
 "nbformat_minor": 5
}

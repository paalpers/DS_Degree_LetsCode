{
 "cells": [
  {
   "cell_type": "markdown",
   "id": "615f2026",
   "metadata": {
    "id": "615f2026"
   },
   "source": [
    "# Exercícios - Estatística"
   ]
  },
  {
   "cell_type": "markdown",
   "id": "b3fd867e",
   "metadata": {
    "id": "b3fd867e"
   },
   "source": [
    "### Questão 1"
   ]
  },
  {
   "cell_type": "code",
   "execution_count": 117,
   "id": "e3e426c6-25e3-4512-b2b7-752846f08839",
   "metadata": {},
   "outputs": [],
   "source": [
    "import numpy as np\n",
    "import pandas as pd\n",
    "import scipy as stats\n",
    "import scipy.stats as st\n",
    "import random\n",
    "import math\n",
    "import matplotlib.pyplot as plt\n",
    "import seaborn as sns\n",
    "sns.set()"
   ]
  },
  {
   "cell_type": "markdown",
   "id": "1a47d0ed",
   "metadata": {
    "id": "1a47d0ed"
   },
   "source": [
    "Uma relação bem importante entre uma população e uma amostra, é que uma amostra pode ser significativa daquela população (ou seja, podemos inferir que a média e variância da amostra será bem próximo do valor real da população), isto quando essa amostra for grande o suficiente para isso. Vamos fazer algumas simulações utilizando o _Python_ para testar esses conceitos, resolvendo os itens a seguir:\n",
    "\n",
    "__A)__ Crie uma lista com número aleatórios entre 20 e 50 e que essa lista contenha 1 milhão de elementos;\n",
    "\n",
    "__B)__ Calcule a média e a variância para essa lista;\n",
    "\n",
    "__C)__ Faça amostra aleatórias de diversos tamanhos (10, 100, 1.000 e 10.000 elementos) e calcule as mesmas métricas que o item anterior, para avaliar o conceito proposto no enunciado"
   ]
  },
  {
   "cell_type": "code",
   "execution_count": 73,
   "id": "0e93f872",
   "metadata": {
    "id": "0e93f872"
   },
   "outputs": [],
   "source": [
    "#A\n",
    "elementos = 1000000\n",
    "pop = list(np.random.randint(20,50,elementos))"
   ]
  },
  {
   "cell_type": "code",
   "execution_count": 74,
   "id": "ccfaaabb-5af2-494a-a069-b0fcacad0d08",
   "metadata": {},
   "outputs": [
    {
     "name": "stdout",
     "output_type": "stream",
     "text": [
      "média : 34.49,\n",
      "varância: 74.91\n"
     ]
    }
   ],
   "source": [
    "#B\n",
    "media = np.mean(pop)\n",
    "variancia = np.var(pop)\n",
    "print(f\"média : {media:.2f},\\nvarância: {variancia:.2f}\")"
   ]
  },
  {
   "cell_type": "code",
   "execution_count": 75,
   "id": "6a4da35d-9c5d-4cbd-85db-69942126bf5b",
   "metadata": {},
   "outputs": [],
   "source": [
    "amostra_10 = list(np.random.randint(20,50,10))\n",
    "amostra_100 = list(np.random.randint(20,50,100))\n",
    "amostra_1k =  list(np.random.randint(20,50,1000))\n",
    "amostra_10k = list(np.random.randint(20,50,10000))"
   ]
  },
  {
   "cell_type": "code",
   "execution_count": 76,
   "id": "b09ebd79-165a-403a-aa01-c5ec73b1a2aa",
   "metadata": {},
   "outputs": [
    {
     "name": "stdout",
     "output_type": "stream",
     "text": [
      "[39.3  48.21] [34.75 85.47] [34.25 77.23] [34.47 75.48]\n"
     ]
    }
   ],
   "source": [
    "data_10 = np.mean(amostra_10),np.var(amostra_10)\n",
    "data_100 = np.mean(amostra_100),np.var(amostra_100)\n",
    "data_1k = np.mean(amostra_1k),np.var(amostra_1k)\n",
    "data_10k = np.mean(amostra_10k),np.var(amostra_10k)\n",
    "print(np.round(data_10,2), np.round(data_100,2), np.round(data_1k,2), np.round(data_10k,2))"
   ]
  },
  {
   "cell_type": "code",
   "execution_count": 77,
   "id": "36bc1a5b-80bb-41c3-bb6d-fa054a92e7d1",
   "metadata": {},
   "outputs": [
    {
     "name": "stdout",
     "output_type": "stream",
     "text": [
      "Amostra com 10 elementos\n",
      "Média:      30.1\n",
      "Variância:  38.09\n",
      "=================================\n",
      "Amostra com 100 elementos\n",
      "Média:      34.23\n",
      "Variância:  75.68\n",
      "=================================\n",
      "Amostra com 1000 elementos\n",
      "Média:      34.88\n",
      "Variância:  73.73\n",
      "=================================\n",
      "Amostra com 10000 elementos\n",
      "Média:      34.6\n",
      "Variância:  74.58\n",
      "=================================\n"
     ]
    }
   ],
   "source": [
    "# Import da biblioteca random para os samples\n",
    "import random\n",
    "\n",
    "# Cria uma lista com os diversos tamanhos de amostras\n",
    "n_amostras = [10, 100, 1000, 10000]\n",
    "\n",
    "# Loop para fazer a amostra aleatória e calcular as métricas\n",
    "for n in n_amostras:\n",
    "    amostra = list(random.sample(pop, n))\n",
    "    print('Amostra com {} elementos'.format(n))\n",
    "    print('Média:     ', np.round(np.mean(amostra),2))\n",
    "    print('Variância: ', np.round(np.var(amostra),2))\n",
    "    print('=================================')"
   ]
  },
  {
   "cell_type": "markdown",
   "id": "3502aea3",
   "metadata": {
    "id": "3502aea3"
   },
   "source": [
    "### Questão 2"
   ]
  },
  {
   "cell_type": "markdown",
   "id": "97416ea6",
   "metadata": {
    "id": "97416ea6"
   },
   "source": [
    "Neste exercício vamos demonstrar a importância de uma amostragem estratificada quando temos grupos significantes dentro da população. Faça os seguintes itens:\n",
    "\n",
    "__A)__ Crie 3 listas de números aleatórios sendo elas:\n",
    "    - uma lista com números aleatórios entre 40 e 50 contendo 10.000 elementos;\n",
    "    - uma lista com números aleatórios entre 10 e 20 contendo 6.000 elementos;\n",
    "    - uma lista com números aleatórios entre 80 e 90 contendo 4.000 elementos.\n",
    "    \n",
    "__B)__ Calcule a média e a variância para cada uma das 3 listas;\n",
    "\n",
    "__C)__ Calcule a média e a variância para a população, onde a população seja as 3 listas juntas;\n",
    "\n",
    "__Dica.:__ Neste caso, temos que trabalhar com média e variância ponderada!\n",
    "\n",
    "__D)__ Una as 3 listas em uma só e retire uma amostra de 1% da lista resultante. Calcule a média e a variância para esta amostra;\n",
    "\n",
    "__E)__ Por fim, faça uma amostra estratificada da seguinte forma: faça uma amostra aleatória de 1% de cada uma das 3 listas e em seguida calcule a média e a variância para a amostra estratificada (será necessário utilizar a média e variância ponderada!).\n",
    "\n",
    "__F)__ Compare o resultado das métricas para a amostra e a amostra estratificada com o valor das métricas da população."
   ]
  },
  {
   "cell_type": "markdown",
   "id": "113c41ab-a99c-4d44-a107-484c4af9824a",
   "metadata": {},
   "source": [
    "__A)__ Crie 3 listas de números aleatórios sendo elas:\n",
    "    - uma lista com números aleatórios entre 40 e 50 contendo 10.000 elementos;\n",
    "    - uma lista com números aleatórios entre 10 e 20 contendo 6.000 elementos;\n",
    "    - uma lista com números aleatórios entre 80 e 90 contendo 4.000 elementos."
   ]
  },
  {
   "cell_type": "code",
   "execution_count": 78,
   "id": "119245b9",
   "metadata": {
    "id": "119245b9"
   },
   "outputs": [],
   "source": [
    "#A\n",
    "n1 = 10000\n",
    "n2 = 6000\n",
    "n3 = 4000\n",
    "lista1 = list(np.random.randint(40,50,n1))\n",
    "lista2 = list(np.random.randint(10,20,n2))\n",
    "lista3 = list(np.random.randint(80,90,n3))"
   ]
  },
  {
   "cell_type": "markdown",
   "id": "49d47558-a97f-4735-a862-4fed15c91ea0",
   "metadata": {},
   "source": [
    "__B)__ Calcule a média e a variância para cada uma das 3 listas;"
   ]
  },
  {
   "cell_type": "code",
   "execution_count": 79,
   "id": "51778fae-f3f9-443d-8077-2e2c6e7187ac",
   "metadata": {},
   "outputs": [
    {
     "data": {
      "text/html": [
       "<div>\n",
       "<style scoped>\n",
       "    .dataframe tbody tr th:only-of-type {\n",
       "        vertical-align: middle;\n",
       "    }\n",
       "\n",
       "    .dataframe tbody tr th {\n",
       "        vertical-align: top;\n",
       "    }\n",
       "\n",
       "    .dataframe thead th {\n",
       "        text-align: right;\n",
       "    }\n",
       "</style>\n",
       "<table border=\"1\" class=\"dataframe\">\n",
       "  <thead>\n",
       "    <tr style=\"text-align: right;\">\n",
       "      <th></th>\n",
       "      <th>pop 10k</th>\n",
       "      <th>pop 6k</th>\n",
       "      <th>pop 4k</th>\n",
       "    </tr>\n",
       "  </thead>\n",
       "  <tbody>\n",
       "    <tr>\n",
       "      <th>mean</th>\n",
       "      <td>44.50</td>\n",
       "      <td>14.47</td>\n",
       "      <td>84.58</td>\n",
       "    </tr>\n",
       "    <tr>\n",
       "      <th>variance</th>\n",
       "      <td>8.32</td>\n",
       "      <td>8.27</td>\n",
       "      <td>8.46</td>\n",
       "    </tr>\n",
       "  </tbody>\n",
       "</table>\n",
       "</div>"
      ],
      "text/plain": [
       "          pop 10k  pop 6k  pop 4k\n",
       "mean        44.50   14.47   84.58\n",
       "variance     8.32    8.27    8.46"
      ]
     },
     "execution_count": 79,
     "metadata": {},
     "output_type": "execute_result"
    }
   ],
   "source": [
    "mean1 = np.round(np.mean(lista1),2)\n",
    "var1 = np.round(np.var(lista1),2)\n",
    "mean2 = np.round(np.mean(lista2),2)\n",
    "var2 = np.round(np.var(lista2),2)\n",
    "mean3 = np.round(np.mean(lista3),2)\n",
    "var3 = np.round(np.var(lista3),2)\n",
    "data = [[mean1, mean2, mean3,], [var1, var2, var3]]\n",
    "df = pd.DataFrame(data=data,index=['mean','variance'], columns=['pop 10k', 'pop 6k', 'pop 4k'])\n",
    "df"
   ]
  },
  {
   "cell_type": "markdown",
   "id": "ecbdb29c-c056-4491-99f4-2c5120ad4c0d",
   "metadata": {},
   "source": [
    "__C)__ Calcule a média e a variância para a população, onde a população seja as 3 listas juntas;\n",
    "\n",
    "__Dica.:__ Neste caso, temos que trabalhar com média e variância ponderada!"
   ]
  },
  {
   "cell_type": "code",
   "execution_count": 80,
   "id": "27c5793f-c4df-4a09-9131-fb28d8f51886",
   "metadata": {},
   "outputs": [
    {
     "name": "stdout",
     "output_type": "stream",
     "text": [
      "43.51 25.05\n"
     ]
    }
   ],
   "source": [
    "N = n1+n2+n3\n",
    "p1 = n1/N\n",
    "p2 = n2/N\n",
    "p3 = n3/N\n",
    "\n",
    "pop_wmean = mean1*p1 + mean2*p2 + mean3*p3\n",
    "pop_wvar = var1 + var2 + var3\n",
    "print(np.round(pop_wmean,2), np.round(pop_wvar,2))"
   ]
  },
  {
   "cell_type": "markdown",
   "id": "8ceb811c-4f68-4439-acf3-c8a2b389ed8a",
   "metadata": {},
   "source": [
    "__D)__ Una as 3 listas em uma só e retire uma amostra de 1% da lista resultante. Calcule a média e a variância para esta amostra;"
   ]
  },
  {
   "cell_type": "code",
   "execution_count": 81,
   "id": "c8c13ebe-107b-4f3e-bf67-a46aacc9edd1",
   "metadata": {},
   "outputs": [
    {
     "data": {
      "text/plain": [
       "(43.8, 667.47)"
      ]
     },
     "execution_count": 81,
     "metadata": {},
     "output_type": "execute_result"
    }
   ],
   "source": [
    "pop = lista1+lista2+lista3\n",
    "sample = list(random.sample(pop, 200))\n",
    "np.mean(sample), np.var(sample)"
   ]
  },
  {
   "cell_type": "markdown",
   "id": "cbbef989-9d06-4e5c-b05e-7008addd33b3",
   "metadata": {},
   "source": [
    "__E)__ Por fim, faça uma amostra estratificada da seguinte forma: faça uma amostra aleatória de 1% de cada uma das 3 listas e em seguida calcule a média e a variância para a amostra estratificada (será necessário utilizar a média e variância ponderada!)."
   ]
  },
  {
   "cell_type": "code",
   "execution_count": 82,
   "id": "cbf2faa7-58c0-431a-adad-830854c98937",
   "metadata": {},
   "outputs": [
    {
     "name": "stdout",
     "output_type": "stream",
     "text": [
      "Amostra 1 com 100 elementos\n",
      "Média:      44.63\n",
      "Variância:  9.1131\n",
      "=================================\n",
      "Amostra 1 com 60 elementos\n",
      "Média:      14.533333333333333\n",
      "Variância:  7.082222222222222\n",
      "=================================\n",
      "Amostra 1 com 40 elementos\n",
      "Média:      84.775\n",
      "Variância:  8.324375\n",
      "=================================\n"
     ]
    }
   ],
   "source": [
    "# amostra 1\n",
    "amostra1 = list(random.sample(lista1, 100))\n",
    "\n",
    "#dados estatisticos da amostra\n",
    "mean_amostra1 = np.mean(amostra1)\n",
    "var_amostra1 = np.var(amostra1)\n",
    "\n",
    "# Print das metricas da amostra\n",
    "print('Amostra 1 com {} elementos'.format(100))\n",
    "print('Média:     ', mean_amostra1)\n",
    "print('Variância: ', var_amostra1)\n",
    "print('=================================')\n",
    "# amostra 2\n",
    "amostra2 = list(random.sample(lista2, 60))\n",
    "\n",
    "#dados estatisticos da amostra\n",
    "mean_amostra2 = np.mean(amostra2)\n",
    "var_amostra2 = np.var(amostra2)\n",
    "\n",
    "# Print das metricas da amostra\n",
    "print('Amostra 1 com {} elementos'.format(60))\n",
    "print('Média:     ', mean_amostra2)\n",
    "print('Variância: ', var_amostra2)\n",
    "print('=================================')\n",
    "# amostra 3\n",
    "amostra3 = list(random.sample(lista3, 40))\n",
    "\n",
    "#dados estatisticos da amostra\n",
    "mean_amostra3 = np.mean(amostra3)\n",
    "var_amostra3 = np.var(amostra3)\n",
    "\n",
    "# Print das metricas da amostra\n",
    "print('Amostra 1 com {} elementos'.format(40))\n",
    "print('Média:     ', mean_amostra3)\n",
    "print('Variância: ', var_amostra3)\n",
    "print('=================================')"
   ]
  },
  {
   "cell_type": "code",
   "execution_count": 83,
   "id": "74f65941-2bf5-4a17-a463-e78ada0074b9",
   "metadata": {},
   "outputs": [
    {
     "name": "stdout",
     "output_type": "stream",
     "text": [
      "Métricas da Amostra total: \n",
      "Amostra com 200 elementos\n",
      "Média Ponderada:      43.63\n",
      "Variância Ponderada:  24.51969722222222\n"
     ]
    }
   ],
   "source": [
    "N = n1+n2+n3\n",
    "p1 = n1/N\n",
    "p2 = n2/N\n",
    "p3 = n3/N\n",
    "\n",
    "amostra_N_mean = p1*mean_amostra1 + p2*mean_amostra2 + p3*mean_amostra3\n",
    "amostra_N_var = var_amostra1 + var_amostra2 + var_amostra3\n",
    "np.round(amostra_N_mean,2), np.round(amostra_N_var, 2)\n",
    "\n",
    "# Print das métricas da população\n",
    "print('Métricas da Amostra total: ')\n",
    "print('Amostra com {} elementos'.format(200))\n",
    "print('Média Ponderada:     ', amostra_N_mean)\n",
    "print('Variância Ponderada: ', amostra_N_var)"
   ]
  },
  {
   "cell_type": "markdown",
   "id": "0efc1715-bf45-4688-8d86-5e4ea337fe08",
   "metadata": {},
   "source": [
    "__F)__ Compare o resultado das métricas para a amostra e a amostra estratificada com o valor das métricas da população."
   ]
  },
  {
   "cell_type": "code",
   "execution_count": 126,
   "id": "bd57f753-69bd-4859-9099-f60d81716847",
   "metadata": {},
   "outputs": [
    {
     "data": {
      "text/plain": [
       "([43.51, 24.48], [43.63, 24.52])"
      ]
     },
     "execution_count": 126,
     "metadata": {},
     "output_type": "execute_result"
    }
   ],
   "source": [
    "[np.round(np.mean(pop),2), np.round(np.std(pop),2)], [np.round(amostra_N_mean,2), np.round(amostra_N_var, 2)]"
   ]
  },
  {
   "cell_type": "markdown",
   "id": "2e3a7b3a",
   "metadata": {
    "id": "2e3a7b3a"
   },
   "source": [
    "### Questão 3"
   ]
  },
  {
   "cell_type": "markdown",
   "id": "8d8b9db9",
   "metadata": {
    "id": "8d8b9db9"
   },
   "source": [
    " Uma máquina de sorvete está regulada de modo a servir uma média de 120g por casquinha. Se a quantidade servida por casquinha seguir uma distribuição normal com desvio padrão de 18g, determine a porcentagem de casquinhas que conterão mais de 150g de sorvete."
   ]
  },
  {
   "cell_type": "markdown",
   "id": "e94e9f94-4017-453e-a4e1-a594959082d1",
   "metadata": {},
   "source": [
    "Sabendo que as casquinhas seguem uma distribuição normal, temos que:\n",
    "\n",
    "$$\n",
    "P(X \\geq 150) = P\\left( \\frac{X-\\mu}{\\sigma}\\geq \\frac{150-\\mu}{\\sigma}\\right) = P\\left( Z \\geq \\frac{150-\\mu}{\\sigma}\\right) = 1 - P\\left( Z < \\frac{150-\\mu}{\\sigma}\\right)\n",
    "$$"
   ]
  },
  {
   "cell_type": "code",
   "execution_count": 109,
   "id": "3b3ff14e",
   "metadata": {
    "id": "3b3ff14e"
   },
   "outputs": [],
   "source": [
    "# P(x >= 50) = P( (x-mu)/erro_padrao >= P(150-mu)/erro_padrao ) = P( Z >= 150-mu)/erro_padrao ) = 1-P( Z < (150-mu)/erro_padrao) "
   ]
  },
  {
   "cell_type": "code",
   "execution_count": 125,
   "id": "da6c841c-25a8-4c99-964f-783bbe7b9904",
   "metadata": {},
   "outputs": [
    {
     "name": "stdout",
     "output_type": "stream",
     "text": [
      "A probabilidade de ter mais que 150g é igual a:  16.48 %\n"
     ]
    }
   ],
   "source": [
    "media = 120\n",
    "dp = 18\n",
    "amostra = 150\n",
    "Z = (amostra-media)/dp\n",
    "np.round((1-st.norm.cdf(z))*100,2)\n",
    "print('A probabilidade de ter mais que 150g é igual a: ', np.round((1-st.norm.cdf(z))*100, 2), '%')"
   ]
  },
  {
   "cell_type": "code",
   "execution_count": null,
   "id": "cb8f7e6f-5a2e-4dd3-b475-9e39cfe4b6fa",
   "metadata": {},
   "outputs": [],
   "source": []
  },
  {
   "cell_type": "code",
   "execution_count": null,
   "id": "02c76981-63de-466d-b083-9638b88013c4",
   "metadata": {},
   "outputs": [],
   "source": []
  },
  {
   "cell_type": "markdown",
   "id": "18951732",
   "metadata": {
    "id": "18951732"
   },
   "source": [
    "### Questão 4"
   ]
  },
  {
   "cell_type": "markdown",
   "id": "91d33a4a",
   "metadata": {
    "id": "91d33a4a"
   },
   "source": [
    "O peso médio de 500 estudantes do sexo masculino de uma determinada universidade é 71 Kg e o desvio padrão é 5,3 Kg. Admitindo que os pesos são normalmente distribuídos, determine a porcentagem de estudantes que pesam entre 65 e 72,5 kg"
   ]
  },
  {
   "cell_type": "code",
   "execution_count": null,
   "id": "9dcf53ee",
   "metadata": {
    "id": "9dcf53ee"
   },
   "outputs": [],
   "source": []
  },
  {
   "cell_type": "markdown",
   "id": "49a54c36",
   "metadata": {
    "id": "49a54c36"
   },
   "source": [
    "### Questão 5"
   ]
  },
  {
   "cell_type": "markdown",
   "id": "ad7af421",
   "metadata": {
    "id": "ad7af421"
   },
   "source": [
    "Uma fábrica anuncia que o índice de cafeína em um refrigerante de uma dada marca é igual a 20 mg por lata. Um laboratório realiza 20 análises do índice obtendo: 22, 19, 21, 22, 20, 18, 27, 20, 21, 19, 20, 22, 17, 20, 21,18, 25, 16, 20, 21. Sabe-se que o índice de cafeína do refrigerante dessa marca se distribui normalmente com variância 4 mg$^2$. Pode-se aceitar a afirmação do fabricante, ao nível de 5%?"
   ]
  },
  {
   "cell_type": "code",
   "execution_count": null,
   "id": "46281c0d",
   "metadata": {
    "id": "46281c0d"
   },
   "outputs": [],
   "source": []
  }
 ],
 "metadata": {
  "colab": {
   "name": "L3 - Estatística II.ipynb",
   "provenance": []
  },
  "kernelspec": {
   "display_name": "Python 3 (ipykernel)",
   "language": "python",
   "name": "python3"
  },
  "language_info": {
   "codemirror_mode": {
    "name": "ipython",
    "version": 3
   },
   "file_extension": ".py",
   "mimetype": "text/x-python",
   "name": "python",
   "nbconvert_exporter": "python",
   "pygments_lexer": "ipython3",
   "version": "3.9.7"
  },
  "varInspector": {
   "cols": {
    "lenName": 16,
    "lenType": 16,
    "lenVar": 40
   },
   "kernels_config": {
    "python": {
     "delete_cmd_postfix": "",
     "delete_cmd_prefix": "del ",
     "library": "var_list.py",
     "varRefreshCmd": "print(var_dic_list())"
    },
    "r": {
     "delete_cmd_postfix": ") ",
     "delete_cmd_prefix": "rm(",
     "library": "var_list.r",
     "varRefreshCmd": "cat(var_dic_list()) "
    }
   },
   "types_to_exclude": [
    "module",
    "function",
    "builtin_function_or_method",
    "instance",
    "_Feature"
   ],
   "window_display": false
  },
  "widgets": {
   "application/vnd.jupyter.widget-state+json": {
    "state": {},
    "version_major": 2,
    "version_minor": 0
   }
  }
 },
 "nbformat": 4,
 "nbformat_minor": 5
}

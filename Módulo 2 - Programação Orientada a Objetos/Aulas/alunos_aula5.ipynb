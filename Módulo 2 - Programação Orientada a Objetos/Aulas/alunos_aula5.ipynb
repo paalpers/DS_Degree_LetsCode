{
 "cells": [
  {
   "cell_type": "code",
   "execution_count": 45,
   "metadata": {},
   "outputs": [],
   "source": [
    "paulo = Pessoa('Paulo', 30, 'paulo@gmail.com', '123456789')\n",
    "bruna = Pessoa('Bruna', 27, 'bruna@gmail.com', '987654321')\n",
    "\n"
   ]
  },
  {
   "cell_type": "code",
   "execution_count": 57,
   "metadata": {},
   "outputs": [],
   "source": [
    "class Pessoa:\n",
    "    def __init__(self, nome, idade, email, senha):\n",
    "        # argumentos\n",
    "        self.nome = nome\n",
    "        \n",
    "        # atributos privados recomendados\n",
    "        # o usuario consegue acessar facilmente\n",
    "        # mas é recomendado que não faça nada equivocadamene\n",
    "        self._idade = idade\n",
    "        self._email = email\n",
    "        \n",
    "        # atributos totalmente privados\n",
    "        self.__senha = senha\n",
    "        self.__lista_amigos = []\n",
    "        \n",
    "\n",
    "        \n",
    "\n",
    "    def verifica_qte_max_amigos(self):\n",
    "        qte_maxima=2\n",
    "        return len(self.__lista_amigos)<qte_maxima\n",
    "\n",
    "    def adiciona_amigo(self, amigo):\n",
    "        if(amigo not in self.__lista_amigos and self.verifica_qte_max_amigos()):\n",
    "            self.__lista_amigos.append(amigo)\n",
    "            return True\n",
    "        return False\n",
    "\n",
    "    def printa_nome_amigos(self):\n",
    "        for amigo in self.__lista_amigos:\n",
    "            print(amigo.nome)\n",
    "            \n",
    "    @staticmethod        \n",
    "    def mostra_info(pessoa):\n",
    "        representacao = f'{pessoa.nome}\\n{pessoa._email}'\n",
    "        print(representacao)\n",
    "        \n",
    "    @property\n",
    "    def email(self):\n",
    "        return self._email\n",
    "    @property\n",
    "    def senha(self):\n",
    "        return self.__senha\n",
    "    @property\n",
    "    def idade(self):\n",
    "        return self._idade\n",
    "    \n",
    "    @idade.setter\n",
    "    def idade(self, valor):\n",
    "        if not isinstance(valor, int) and valor < 0:\n",
    "            raise ValueError('A idade precisar um inteiro >= 0')\n",
    "            \n",
    "        self._idade = valor"
   ]
  },
  {
   "cell_type": "code",
   "execution_count": 58,
   "metadata": {},
   "outputs": [
    {
     "data": {
      "text/plain": [
       "False"
      ]
     },
     "execution_count": 58,
     "metadata": {},
     "output_type": "execute_result"
    }
   ],
   "source": [
    "paulo.adiciona_amigo(bruna)"
   ]
  },
  {
   "cell_type": "code",
   "execution_count": 59,
   "metadata": {},
   "outputs": [
    {
     "data": {
      "text/plain": [
       "'123456789'"
      ]
     },
     "execution_count": 59,
     "metadata": {},
     "output_type": "execute_result"
    }
   ],
   "source": [
    "paulo._Pessoa__senha"
   ]
  },
  {
   "cell_type": "code",
   "execution_count": 60,
   "metadata": {},
   "outputs": [
    {
     "name": "stdout",
     "output_type": "stream",
     "text": [
      "Paulo\n",
      "paulo@gmail.com\n"
     ]
    }
   ],
   "source": [
    "Pessoa.mostra_info(paulo)"
   ]
  },
  {
   "cell_type": "code",
   "execution_count": 61,
   "metadata": {},
   "outputs": [
    {
     "name": "stdout",
     "output_type": "stream",
     "text": [
      "Bruna\n",
      "bruna@gmail.com\n"
     ]
    }
   ],
   "source": [
    "Pessoa.mostra_info(bruna)"
   ]
  },
  {
   "cell_type": "code",
   "execution_count": 62,
   "metadata": {},
   "outputs": [
    {
     "name": "stdout",
     "output_type": "stream",
     "text": [
      "Bruna\n",
      "bruna@gmail.com\n"
     ]
    }
   ],
   "source": [
    "paulo.mostra_info(bruna)"
   ]
  },
  {
   "cell_type": "code",
   "execution_count": 63,
   "metadata": {},
   "outputs": [
    {
     "data": {
      "text/plain": [
       "'paulo@gmail.com'"
      ]
     },
     "execution_count": 63,
     "metadata": {},
     "output_type": "execute_result"
    }
   ],
   "source": [
    "paulo.email"
   ]
  },
  {
   "cell_type": "code",
   "execution_count": 64,
   "metadata": {},
   "outputs": [
    {
     "data": {
      "text/plain": [
       "'123456789'"
      ]
     },
     "execution_count": 64,
     "metadata": {},
     "output_type": "execute_result"
    }
   ],
   "source": [
    "paulo.senha"
   ]
  },
  {
   "cell_type": "code",
   "execution_count": 65,
   "metadata": {},
   "outputs": [
    {
     "data": {
      "text/plain": [
       "30"
      ]
     },
     "execution_count": 65,
     "metadata": {},
     "output_type": "execute_result"
    }
   ],
   "source": [
    "paulo.idade"
   ]
  },
  {
   "cell_type": "code",
   "execution_count": null,
   "metadata": {},
   "outputs": [],
   "source": []
  }
 ],
 "metadata": {
  "kernelspec": {
   "display_name": "Python 3",
   "language": "python",
   "name": "python3"
  },
  "language_info": {
   "codemirror_mode": {
    "name": "ipython",
    "version": 3
   },
   "file_extension": ".py",
   "mimetype": "text/x-python",
   "name": "python",
   "nbconvert_exporter": "python",
   "pygments_lexer": "ipython3",
   "version": "3.8.5"
  }
 },
 "nbformat": 4,
 "nbformat_minor": 4
}

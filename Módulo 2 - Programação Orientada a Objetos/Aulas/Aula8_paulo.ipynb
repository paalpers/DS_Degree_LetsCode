{
 "cells": [
  {
   "cell_type": "code",
   "execution_count": 5,
   "metadata": {},
   "outputs": [
    {
     "name": "stdout",
     "output_type": "stream",
     "text": [
      "['Paulo', '30', 'n']\n",
      "['Bruna', '27', 's']\n",
      "['Andrei', '35', 's']\n",
      "['Lucas', '50', 's']\n",
      "['Gustavo', '50', 'n']\n",
      "['Luis', '73', 'n']\n",
      "['Livia', '73', 's']\n",
      "['Marcos', '91', 'n']\n"
     ]
    }
   ],
   "source": [
    "import csv\n",
    "\n",
    "with open('pessoas.csv', 'r') as arquivo:\n",
    "    arquivo_csv = csv.reader(arquivo, delimiter=';')\n",
    "    \n",
    "    for linha in arquivo_csv:\n",
    "        print(linha)"
   ]
  },
  {
   "cell_type": "code",
   "execution_count": null,
   "metadata": {},
   "outputs": [],
   "source": []
  },
  {
   "cell_type": "code",
   "execution_count": 10,
   "metadata": {},
   "outputs": [],
   "source": [
    "import csv\n",
    "\n",
    "nome_pessoas = []\n",
    "n_apto = []\n",
    "bool_candidatos = []\n",
    "\n",
    "with open('pessoas.csv', 'r') as arquivo:\n",
    "    reader = csv.reader(arquivo, delimiter=';')\n",
    "    #cada linha vai ser uma lista correspondente\n",
    "    #a linha do csv\n",
    "    for linha in reader:\n",
    "        nome_pessoas.append(linha[0])\n",
    "        n_apto.append(int(linha[1]))\n",
    "        if (linha[2] == 's'):\n",
    "            bool_candidatos.append(True)\n",
    "        else:\n",
    "            bool_candidatos.append(False)\n",
    "        "
   ]
  },
  {
   "cell_type": "code",
   "execution_count": 11,
   "metadata": {},
   "outputs": [
    {
     "name": "stdout",
     "output_type": "stream",
     "text": [
      "['Paulo', 'Bruna', 'Andrei', 'Lucas', 'Gustavo', 'Luis', 'Livia', 'Marcos']\n",
      "[30, 27, 35, 50, 50, 73, 73, 91]\n",
      "[False, True, True, True, False, False, True, False]\n"
     ]
    }
   ],
   "source": [
    "print(nome_pessoas)\n",
    "print(n_apto)\n",
    "print(bool_candidatos)"
   ]
  },
  {
   "cell_type": "code",
   "execution_count": 13,
   "metadata": {},
   "outputs": [
    {
     "name": "stdout",
     "output_type": "stream",
     "text": [
      "Paulo\n",
      "30\n",
      "False\n",
      "\n",
      "Bruna\n",
      "27\n",
      "True\n",
      "\n",
      "Andrei\n",
      "35\n",
      "True\n",
      "\n",
      "Lucas\n",
      "50\n",
      "True\n",
      "\n",
      "Gustavo\n",
      "50\n",
      "False\n",
      "\n",
      "Luis\n",
      "73\n",
      "False\n",
      "\n",
      "Livia\n",
      "73\n",
      "True\n",
      "\n",
      "Marcos\n",
      "91\n",
      "False\n",
      "\n"
     ]
    }
   ],
   "source": [
    "# instancia as classes:\n",
    "for index in range(len(nome_pessoas)):\n",
    "    print(nome_pessoas[index])\n",
    "    print(n_apto[index])\n",
    "    print(bool_candidatos[index])\n",
    "    print()"
   ]
  },
  {
   "cell_type": "code",
   "execution_count": null,
   "metadata": {},
   "outputs": [],
   "source": []
  }
 ],
 "metadata": {
  "kernelspec": {
   "display_name": "Python 3",
   "language": "python",
   "name": "python3"
  },
  "language_info": {
   "codemirror_mode": {
    "name": "ipython",
    "version": 3
   },
   "file_extension": ".py",
   "mimetype": "text/x-python",
   "name": "python",
   "nbconvert_exporter": "python",
   "pygments_lexer": "ipython3",
   "version": "3.8.5"
  }
 },
 "nbformat": 4,
 "nbformat_minor": 4
}

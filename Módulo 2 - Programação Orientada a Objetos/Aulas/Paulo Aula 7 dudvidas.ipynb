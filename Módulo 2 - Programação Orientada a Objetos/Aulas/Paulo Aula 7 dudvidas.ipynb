{
 "cells": [
  {
   "cell_type": "markdown",
   "metadata": {},
   "source": [
    "## Aula 7"
   ]
  },
  {
   "cell_type": "code",
   "execution_count": 24,
   "metadata": {},
   "outputs": [],
   "source": [
    "class Cliente:\n",
    "    def __init__(self, nome, idade, email):\n",
    "        self.nome = nome\n",
    "        self.idade = idade\n",
    "        self.email = email\n",
    "    def __repr__(self):\n",
    "        texto = \"Nome: {}\\nIdade: {}\\nE-mail {}\".format(\n",
    "            self.nome,\n",
    "            self.idade,\n",
    "            self.email\n",
    "        )\n",
    "        return texto"
   ]
  },
  {
   "cell_type": "code",
   "execution_count": 25,
   "metadata": {},
   "outputs": [],
   "source": [
    "paulo = Cliente(\n",
    "    nome='Paulo',\n",
    "    idade=30,\n",
    "    email='paulo.alperstedt@gmail'\n",
    ")\n",
    "\n",
    "bruna = Cliente(\n",
    "    nome='Bruna',\n",
    "    idade=27,\n",
    "    email='bruna_amorin@gmail'\n",
    ")"
   ]
  },
  {
   "cell_type": "code",
   "execution_count": 26,
   "metadata": {},
   "outputs": [],
   "source": [
    "class Sistema:\n",
    "    def __init__(self):\n",
    "        self.clientes = []\n",
    "        \n",
    "    def cadastra_clientes(self, nome, idade, email):\n",
    "        cliente = Cliente(\n",
    "            nome = nome,\n",
    "            idade=idade,\n",
    "            email=email\n",
    "        )\n",
    "        self.clientes.append(cliente)\n",
    "\n",
    "\n",
    "\n",
    "    def cria_cliente(nome, idade, email):\n",
    "        cliente = Cliente(\n",
    "            nome = nome,\n",
    "            idade=idade,\n",
    "            email=email\n",
    "        )\n",
    "        return cliente\n",
    "    \n",
    "sistema1 = Sistema()\n",
    "sistema1.cadastra_clientes('Paulo',30,'paulo.alpen@gmail.com')"
   ]
  },
  {
   "cell_type": "code",
   "execution_count": null,
   "metadata": {},
   "outputs": [],
   "source": []
  },
  {
   "cell_type": "code",
   "execution_count": 27,
   "metadata": {},
   "outputs": [
    {
     "data": {
      "text/plain": [
       "[Nome: Paulo\n",
       " Idade: 30\n",
       " E-mail paulo.alpen@gmail.com]"
      ]
     },
     "execution_count": 27,
     "metadata": {},
     "output_type": "execute_result"
    }
   ],
   "source": [
    "sistema1.clientes"
   ]
  },
  {
   "cell_type": "code",
   "execution_count": null,
   "metadata": {},
   "outputs": [],
   "source": []
  }
 ],
 "metadata": {
  "kernelspec": {
   "display_name": "Python 3",
   "language": "python",
   "name": "python3"
  },
  "language_info": {
   "codemirror_mode": {
    "name": "ipython",
    "version": 3
   },
   "file_extension": ".py",
   "mimetype": "text/x-python",
   "name": "python",
   "nbconvert_exporter": "python",
   "pygments_lexer": "ipython3",
   "version": "3.8.5"
  }
 },
 "nbformat": 4,
 "nbformat_minor": 4
}

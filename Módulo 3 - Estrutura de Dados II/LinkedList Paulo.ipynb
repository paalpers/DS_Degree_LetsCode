{
 "cells": [
  {
   "cell_type": "code",
   "execution_count": 1,
   "metadata": {},
   "outputs": [],
   "source": [
    "# vamos reproduzir o comportamento abaixo\n",
    "# na LinkedList\n",
    "# sequencial = []\n",
    "# sequencial.append(9)"
   ]
  },
  {
   "cell_type": "code",
   "execution_count": 2,
   "metadata": {},
   "outputs": [],
   "source": [
    "\n",
    "\n",
    "# class Node:\n",
    "#     def __init__(self, data):\n",
    "#         self.data = data\n",
    "#         self.next = None"
   ]
  },
  {
   "cell_type": "code",
   "execution_count": 3,
   "metadata": {},
   "outputs": [],
   "source": [
    "from node import Node\n",
    "\n",
    "class LinkedList:\n",
    "    def __init__(self):\n",
    "        self.head = None\n",
    "        self._size = 0 \n",
    "    \n",
    "    def append(self, element):\n",
    "# há dois casos ao add um novo elemento\n",
    "# 1 a lista pode estar vazia, (head=None) o else da função abaixo\n",
    "# 2 a lista já possui elementos nela o if da função abaixo\n",
    "        '''\n",
    "        adiciona um novo elemento\n",
    "        ao final da lista\n",
    "        '''\n",
    "        \n",
    "        if self.head:\n",
    "            pointer = self.head\n",
    "            # inserção quando a lista já possui elementos\n",
    "            while(pointer.next):# A\n",
    "                pointer = pointer.next\n",
    "            pointer.next = Node(element) # B\n",
    "\n",
    "        # tanto pointer quanto head\n",
    "        # apontam para o mesmo espaço\n",
    "        # de memoria\n",
    "         \n",
    "        # A    \n",
    "        # o while será executado e\n",
    "        # enquanto um elemento possuir um next != None\n",
    "        # eu consigo chegar ao próximo elemento da lista\n",
    "        \n",
    "        # B\n",
    "        # Quando a expressão do while for falsa\n",
    "        # teremos chegado ao ultimo elemento\n",
    "        # Então guardamaos este novo elemento\n",
    "        # dentro de um Node()\n",
    "        # Desta forma o ultimo elemento da lista\n",
    "        # que antes possuia um .next vazio\n",
    "        # agora terá como .next este novo elemento criado     \n",
    "            \n",
    "        else:\n",
    "            # primeira inserção\n",
    "            self.head = Node(element)\n",
    "        self._size += 1\n",
    "        \n",
    "    def __len__(self):\n",
    "        '''\n",
    "        Retorna o tamanho da lista\n",
    "        '''\n",
    "        return self._size\n",
    "#     def get(self, index):\n",
    "#         pass\n",
    "    \n",
    "#     def set(self, index, element):\n",
    "#         pass\n",
    "    \n",
    "    def __getitem__(self, index):\n",
    "        pointer = self.head\n",
    "        for i in range(index):\n",
    "            if pointer is not None:\n",
    "                pointer = pointer.next\n",
    "            else:\n",
    "                raise IndexError(\"list index out of range\")\n",
    "        if pointer is not None:\n",
    "            return pointer.data\n",
    "        raise IndexError(\"list index out of range\")\n",
    "                \n",
    "    def __setitem__(self, index, element):\n",
    "        pointer = self.head\n",
    "        for i in range(index):\n",
    "            if pointer is not None:\n",
    "                pointer = pointer.next\n",
    "            else:\n",
    "                raise IndexError(\"list index out of range\")\n",
    "        if pointer is not None:\n",
    "            pointer.data = element\n",
    "        raise IndexError(\"list index out of range\")\n",
    "                \n",
    "    def index(self, element):\n",
    "        '''\n",
    "        Retorna o indice do elemento na lista\n",
    "        '''\n",
    "        pointer = self.head\n",
    "        i = 0\n",
    "        while(pointer is not None):\n",
    "            if pointer.data == element:\n",
    "                return i\n",
    "            pointer = pointer.next\n",
    "            i += 1\n",
    "        return ValueError(f\"{i} is not in list\")\n",
    "\n",
    "        \n",
    "    "
   ]
  },
  {
   "cell_type": "code",
   "execution_count": 4,
   "metadata": {},
   "outputs": [],
   "source": [
    "lista = LinkedList()\n"
   ]
  },
  {
   "cell_type": "code",
   "execution_count": 5,
   "metadata": {},
   "outputs": [
    {
     "data": {
      "text/plain": [
       "56"
      ]
     },
     "execution_count": 5,
     "metadata": {},
     "output_type": "execute_result"
    }
   ],
   "source": [
    "lista.append(5)\n",
    "lista.append(80)\n",
    "lista.append(56)\n",
    "lista[2]"
   ]
  },
  {
   "cell_type": "code",
   "execution_count": 6,
   "metadata": {},
   "outputs": [],
   "source": [
    "import os\n",
    "import sys\n",
    "\n",
    "class SinglyLinkedListNode:\n",
    "    def __init__(self, node_data):\n",
    "        self.data = node_data\n",
    "        self.next = None\n",
    "\n",
    "class SinglyLinkedList:\n",
    "    def __init__(self):\n",
    "        self.head = None\n",
    "        self.tail = None\n",
    "\n",
    "    def insert_node(self, node_data):\n",
    "        node = SinglyLinkedListNode(node_data)\n",
    "\n",
    "        if not self.head:\n",
    "            self.head = node\n",
    "        else:\n",
    "            self.tail.next = node\n",
    "\n",
    "\n",
    "        self.tail = node\n",
    "\n",
    "def print_singly_linked_list(node, sep, fptr):\n",
    "    while node:\n",
    "        fptr.write(str(node.data))\n",
    "\n",
    "        node = node.next\n",
    "\n",
    "        if node:\n",
    "            fptr.write(sep)"
   ]
  },
  {
   "cell_type": "code",
   "execution_count": 8,
   "metadata": {},
   "outputs": [],
   "source": [
    "def printLinkedList(head):\n",
    "    pointer = head\n",
    "    while pointer != None:\n",
    "        print(pointer.data)\n",
    "        pointer = pointer.next"
   ]
  },
  {
   "cell_type": "code",
   "execution_count": 9,
   "metadata": {},
   "outputs": [],
   "source": [
    "def insertNodeAtHead(llist, data):\n",
    "    node = SinglyLinkedListNode(data)\n",
    "    \n",
    "    if llist != None:\n",
    "        node.next = llist\n",
    "    return node"
   ]
  },
  {
   "cell_type": "code",
   "execution_count": null,
   "metadata": {},
   "outputs": [],
   "source": []
  }
 ],
 "metadata": {
  "kernelspec": {
   "display_name": "Python 3",
   "language": "python",
   "name": "python3"
  },
  "language_info": {
   "codemirror_mode": {
    "name": "ipython",
    "version": 3
   },
   "file_extension": ".py",
   "mimetype": "text/x-python",
   "name": "python",
   "nbconvert_exporter": "python",
   "pygments_lexer": "ipython3",
   "version": "3.8.5"
  }
 },
 "nbformat": 4,
 "nbformat_minor": 4
}

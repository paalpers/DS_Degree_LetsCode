{
 "cells": [
  {
   "cell_type": "markdown",
   "metadata": {},
   "source": [
    "Faça uma função que retorne o reverso de um número inteiro informado. Por exemplo: 127 -> 721."
   ]
  },
  {
   "cell_type": "code",
   "execution_count": null,
   "metadata": {},
   "outputs": [],
   "source": [
    "def retorna_nreverso(numero):\n",
    "    print(numero)\n",
    "    trans = 0\n",
    "\n",
    "    while numero > 0:\n",
    "        resto = numero % 10\n",
    "        trans = (trans + resto) * 10\n",
    "        revert = trans//10\n",
    "\n",
    "        numero //= 10\n",
    "        print(numero, revert)\n",
    "    return revert\n",
    "\n",
    "retorna_nreverso(123456)"
   ]
  },
  {
   "cell_type": "markdown",
   "metadata": {},
   "source": [
    "Enunciado\n",
    "Faça um programa para imprimir:\n",
    "\n",
    "    1\n",
    "    1   2\n",
    "    1   2   3\n",
    "    .....\n",
    "    1   2   3   ...  n\n",
    "para um n informado pelo usuário. Use uma função que receba um valor n inteiro imprima até a n-ésima linha."
   ]
  },
  {
   "cell_type": "code",
   "execution_count": null,
   "metadata": {},
   "outputs": [],
   "source": [
    "def imprimir_nnums(numero):\n",
    "\n",
    "    i = 1\n",
    "    imprimir = []\n",
    "    for i in range(1, numero+1):\n",
    "\n",
    "        imprimir.append(i)\n",
    "        print(*imprimir, sep='   ')\n",
    "imprimir_nnums(10)"
   ]
  },
  {
   "cell_type": "markdown",
   "metadata": {},
   "source": [
    "Enunciado\n",
    "Faça uma função que verifique se um valor é perfeito ou não. Um valor é dito perfeito quando ele é igual a soma dos seus divisores excetuando ele próprio. (Ex: 6 é perfeito, 6 = 1 + 2 + 3, que são seus divisores). A função deve retornar um valor booleano."
   ]
  },
  {
   "cell_type": "code",
   "execution_count": null,
   "metadata": {},
   "outputs": [],
   "source": [
    "def numero_perfeito(numero):\n",
    "    divisores = []\n",
    "    somadivisores = 0\n",
    "    for i in range(1 , numero):\n",
    "        if numero%i == 0:\n",
    "            divisores.append(i)\n",
    "            somadivisores = sum(divisores)\n",
    "    if somadivisores == numero:\n",
    "        print(f'Os divisores de {numero} são: {divisores}' )\n",
    "        print(f'Soma dos divisores: {somadivisores}' )\n",
    "        return True\n",
    "    else:\n",
    "        print(f'Os divisores de {numero} são: {divisores}' )\n",
    "        print(f'Soma dos divisores: {somadivisores}' )\n",
    "        return False\n",
    "    \n",
    "numero_perfeito(28)"
   ]
  },
  {
   "cell_type": "markdown",
   "metadata": {},
   "source": [
    "Enunciado\n",
    "Faça um programa com duas funções: uma chamada \"calculaImposto\". A função possui dois parâmetros formais: taxaImposto, que é a quantia de imposto sobre vendas expressa em porcentagem e custo, que é o custo de um item antes do imposto e irá retornar a taxa de imposto. E uma função “alteraValor” que recebe o valor de custo e a taxa de imposto para incluir o imposto sobre vendas e retorna esse novo valor."
   ]
  },
  {
   "cell_type": "code",
   "execution_count": null,
   "metadata": {},
   "outputs": [],
   "source": []
  },
  {
   "cell_type": "markdown",
   "metadata": {},
   "source": [
    "Construa uma função que receba três aqrgumentios (dia, mes e ano em inteiros) e devolva uma string no formato Dia de mesPorExtenso de AAAA."
   ]
  },
  {
   "cell_type": "code",
   "execution_count": null,
   "metadata": {},
   "outputs": [],
   "source": []
  },
  {
   "cell_type": "markdown",
   "metadata": {},
   "source": [
    "Enunciado\n",
    "Faça uma função que recebe um nome e um horário e imprima:\n",
    "\n",
    "\"Bom dia, [nome]\", caso seja antes de 12h;\n",
    "\n",
    "\"Boa Tarde, [nome]\", caso seja entre 12h e 18h;\n",
    "\n",
    "\"Boa noite, [nome]\" se for após às 18h."
   ]
  },
  {
   "cell_type": "code",
   "execution_count": null,
   "metadata": {},
   "outputs": [],
   "source": []
  },
  {
   "cell_type": "markdown",
   "metadata": {},
   "source": [
    "Enunciado\n",
    "Faça uma função que receba duas listas e retorne o produto item a item dessas listas.\n",
    "\n",
    "Exemplo: Se a função receber as listas [1,4,3] e [3,5,1], então a\n",
    "função deve retornar [1x3, 4x5, 3x1] = [3, 20, 3]."
   ]
  },
  {
   "cell_type": "code",
   "execution_count": null,
   "metadata": {},
   "outputs": [],
   "source": []
  }
 ],
 "metadata": {
  "kernelspec": {
   "display_name": "Python 3",
   "language": "python",
   "name": "python3"
  },
  "language_info": {
   "codemirror_mode": {
    "name": "ipython",
    "version": 3
   },
   "file_extension": ".py",
   "mimetype": "text/x-python",
   "name": "python",
   "nbconvert_exporter": "python",
   "pygments_lexer": "ipython3",
   "version": "3.8.5"
  }
 },
 "nbformat": 4,
 "nbformat_minor": 4
}

{
 "cells": [
  {
   "cell_type": "markdown",
   "metadata": {},
   "source": [
    "# Lista 2 - estruturas condicionais"
   ]
  },
  {
   "cell_type": "markdown",
   "metadata": {},
   "source": [
    "1. Faça um programa que peça a idade do usuário e imprima se ele é\n",
    "maior ou menor de 18 anos.\n"
   ]
  },
  {
   "cell_type": "code",
   "execution_count": 1,
   "metadata": {
    "ExecuteTime": {
     "end_time": "2021-10-20T16:13:50.547386Z",
     "start_time": "2021-10-20T16:13:49.263442Z"
    }
   },
   "outputs": [
    {
     "name": "stdout",
     "output_type": "stream",
     "text": [
      "Qual sua idade?34\n",
      "Maior de idade\n"
     ]
    }
   ],
   "source": [
    "idade = int(input(\"Qual sua idade?\"))\n",
    "\n",
    "if idade >= 18:\n",
    "    print(\"Maior de idade\")\n",
    "else:\n",
    "    print(\"Menor de idade\")"
   ]
  },
  {
   "cell_type": "markdown",
   "metadata": {},
   "source": [
    "\n",
    "\n",
    "2. Faça um programa que peça um número e mostre se ele é positivo\n",
    "ou negativo.\n"
   ]
  },
  {
   "cell_type": "code",
   "execution_count": null,
   "metadata": {},
   "outputs": [],
   "source": [
    "numero = int(input(\"Informe um número\"))\n",
    "\n",
    "if numero > 0:\n",
    "    print(\"numero positivo\")\n",
    "elif numero < 0:\n",
    "    print(\"numero negativo\")\n",
    "else:\n",
    "    print(\"zero\")"
   ]
  },
  {
   "cell_type": "markdown",
   "metadata": {},
   "source": [
    "\n",
    "\n",
    "3. Faça um programa que dado um número digitado, mostre se ele é\n",
    "Par ou Ímpar.\n",
    "\n"
   ]
  },
  {
   "cell_type": "code",
   "execution_count": 3,
   "metadata": {
    "ExecuteTime": {
     "end_time": "2021-10-20T16:15:21.739854Z",
     "start_time": "2021-10-20T16:15:20.033153Z"
    }
   },
   "outputs": [
    {
     "name": "stdout",
     "output_type": "stream",
     "text": [
      "Informe um número14\n",
      "numero par\n"
     ]
    }
   ],
   "source": [
    "numero = int(input(\"Informe um número: \"))\n",
    "\n",
    "if numero% 2 == 0:\n",
    "    print(\"numero par\")\n",
    "else:\n",
    "    print(\"numero impar\")"
   ]
  },
  {
   "cell_type": "markdown",
   "metadata": {},
   "source": [
    "\n",
    "4. Faça um programa que peça dois números e mostre o maior deles.\n",
    "\n"
   ]
  },
  {
   "cell_type": "code",
   "execution_count": 8,
   "metadata": {
    "ExecuteTime": {
     "end_time": "2021-10-20T16:21:18.411747Z",
     "start_time": "2021-10-20T16:21:17.125135Z"
    }
   },
   "outputs": [
    {
     "name": "stdout",
     "output_type": "stream",
     "text": [
      "Informe um número: 8\n",
      "Informe um número: 8\n",
      "8 e 8 são iguais\n"
     ]
    }
   ],
   "source": [
    "a = int(input(\"Informe um número: \"))\n",
    "b = int(input(\"Informe um número: \"))\n",
    "\n",
    "if a > b:\n",
    "    print(f\"{a} é maior que {b}\")\n",
    "elif a < b:\n",
    "    print(f\"{b} é maior que {a}\")\n",
    "else:\n",
    "    print(f\"{a} e {b} são iguais\")"
   ]
  },
  {
   "cell_type": "markdown",
   "metadata": {},
   "source": [
    "\n",
    "5. Faça um programa que leia a validade das informações:\n",
    "\n",
    "a. Idade: entre 0 e 150;\n",
    "\n",
    "b. Salário: maior que 0;\n",
    "\n",
    "c. Sexo: M, F ou Outro;\n",
    "\n",
    "O programa deve imprimir uma mensagem de erro para cada\n",
    "informação inválida.\n"
   ]
  },
  {
   "cell_type": "code",
   "execution_count": null,
   "metadata": {},
   "outputs": [],
   "source": []
  },
  {
   "cell_type": "markdown",
   "metadata": {},
   "source": [
    "\n",
    "\n",
    "6. Escreva um programa que peça a nota de 3 provas de um aluno e\n",
    "verifique se ele passou o não de ano.\n",
    "Obs.: O aluno irá passar de ano se sua média for maior que 6.\n"
   ]
  },
  {
   "cell_type": "code",
   "execution_count": 9,
   "metadata": {
    "ExecuteTime": {
     "end_time": "2021-10-20T17:53:17.186843Z",
     "start_time": "2021-10-20T17:53:08.684536Z"
    }
   },
   "outputs": [
    {
     "name": "stdout",
     "output_type": "stream",
     "text": [
      "Informe quantas notas deseja calcular: 3\n",
      "Informe sua 1ª nota: 7\n",
      "Informe sua 2ª nota: 5\n",
      "Informe sua 3ª nota: 6\n",
      "Reprovado\n"
     ]
    }
   ],
   "source": [
    "qtd = int(input(\"Informe quantas notas deseja calcular: \"))\n",
    "lista = []\n",
    "i = 1 \n",
    "while i <= qtd:\n",
    "    nota = float(input(f\"Informe sua {i}ª nota: \"))\n",
    "    i += 1\n",
    "    lista.append(nota)\n",
    "    media = sum(lista)/len(lista)\n",
    "\n",
    "if media > 6:\n",
    "    print(\"Aprovado\")\n",
    "elif media == 6:\n",
    "    print(\"Recuperação\")\n",
    "else:\n",
    "    print(\"Reprovado\")"
   ]
  },
  {
   "cell_type": "markdown",
   "metadata": {},
   "source": [
    "\n",
    "7. Faça um programa que mostre uma questão de múltipla escolha com\n",
    "5 opções (letras a, b, c, d, e e). Sabendo a resposta certa, o programa\n",
    "deve receber a opção do usuário e informar a letra que o usuário\n",
    "marcou e se a resposta está certa ou errada.\n"
   ]
  },
  {
   "cell_type": "code",
   "execution_count": 3,
   "metadata": {
    "ExecuteTime": {
     "end_time": "2021-10-20T18:27:09.339781Z",
     "start_time": "2021-10-20T18:27:08.607486Z"
    }
   },
   "outputs": [
    {
     "name": "stdout",
     "output_type": "stream",
     "text": [
      "Complete a frase a seguir:\n",
      "O atual presidente do Brasil, Jair Messias Bolsonaro é reconhecido mundialmente por ser um notório __________:\n",
      "a ) diplomata\n",
      "b ) estrategista politico\n",
      "c ) negociador\n",
      "d ) genocida e quadrilheiro\n",
      "e ) defensor da autonomia do judiciario\n",
      "\n",
      "Digite a resposta: D\n",
      "Parabéns! Você acertou.\n",
      "O atual presidente do Brasil, Jair Messias Bolsonaro é reconhecido mundialmente por ser um notório genocida e quadrilheiro\n"
     ]
    }
   ],
   "source": [
    "print('''Complete a frase a seguir:\n",
    "O atual presidente do Brasil, Jair Messias Bolsonaro é reconhecido mundialmente por ser um notório __________:\n",
    "a ) diplomata\n",
    "b ) estrategista politico\n",
    "c ) negociador\n",
    "d ) genocida e quadrilheiro\n",
    "e ) defensor da autonomia do judiciario\n",
    "''')\n",
    "\n",
    "resposta = input(\"Digite a resposta: \")\n",
    "resposta = resposta.lower()\n",
    "if resposta == \"d\":\n",
    "    print('''Parabéns! Você acertou.\n",
    "O atual presidente do Brasil, Jair Messias Bolsonaro é reconhecido mundialmente por ser um notório genocida e quadrilheiro''')\n",
    "else:\n",
    "    print('''Errou!\n",
    "É sabido que o presidente Bolsonaro é um cretino e que entrará a história como a maior escória da politica brasileira''')"
   ]
  },
  {
   "cell_type": "markdown",
   "metadata": {},
   "source": [
    "\n",
    "\n",
    "8. Vamos fazer um programa para verificar quem é o assassino de um\n",
    "crime. Para descobrir o assassino, a polícia faz um pequeno\n",
    "questionário com 5 perguntas onde a resposta só pode ser sim ou não:\n",
    "a. Mora perto da vítima?\n",
    "b. Já trabalhou com a vítima?\n",
    "c. Telefonou para a vítima?\n",
    "d. Esteve no local do crime?\n",
    "e. Devia para a vítima?\n",
    "Cada resposta sim dá um ponto para o suspeito. A polícia considera\n",
    "que os suspeitos com 5 pontos são os assassinos, com 4 a 3 pontos são\n",
    "cúmplices e 2 pontos são apenas suspeitos, necessitando outras\n",
    "investigações. Valores abaixo de 1 são liberados.\n"
   ]
  },
  {
   "cell_type": "code",
   "execution_count": 27,
   "metadata": {
    "ExecuteTime": {
     "end_time": "2021-10-22T20:23:37.013602Z",
     "start_time": "2021-10-22T20:23:27.834408Z"
    }
   },
   "outputs": [
    {
     "name": "stdout",
     "output_type": "stream",
     "text": [
      "Responda as questões abaixo a seguir com \"S\" ou \"N\":\n",
      "    \t 1. Mora perto da vítima?\n",
      "    \t 2. Já trabalhou com a vítima? \n",
      "    \t 3. Telefonou para a vítima? \n",
      "    \t 4. Esteve no local do crime?\n",
      "    \t 5. Devia para a vítima?\n",
      "\n",
      "Responda a 1ª pergunta com 'S' ou 'N': a\n",
      "Responda a 1ª pergunta com 'S' ou 'N': a\n",
      "Responda a 1ª pergunta com 'S' ou 'N': a\n",
      "Responda a 1ª pergunta com 'S' ou 'N': a\n",
      "Responda a 1ª pergunta com 'S' ou 'N': a\n",
      "Responda a 1ª pergunta com 'S' ou 'N': s\n",
      "['S']\n",
      "Responda a 2ª pergunta com 'S' ou 'N': \n",
      "Responda a 2ª pergunta com 'S' ou 'N': d\n",
      "Responda a 2ª pergunta com 'S' ou 'N': f\n",
      "Responda a 2ª pergunta com 'S' ou 'N': n\n",
      "['S', 'N']\n",
      "Responda a 3ª pergunta com 'S' ou 'N': n\n",
      "['S', 'N', 'N']\n",
      "Responda a 4ª pergunta com 'S' ou 'N': n\n",
      "['S', 'N', 'N', 'N']\n",
      "Responda a 5ª pergunta com 'S' ou 'N': s\n",
      "['S', 'N', 'N', 'N', 'S']\n",
      "Cumplice\n"
     ]
    }
   ],
   "source": [
    "pontos = []\n",
    "print(\n",
    "    '''Responda as questões abaixo a seguir com \"S\" ou \"N\":\n",
    "    \\t 1. Mora perto da vítima?\n",
    "    \\t 2. Já trabalhou com a vítima? \n",
    "    \\t 3. Telefonou para a vítima? \n",
    "    \\t 4. Esteve no local do crime?\n",
    "    \\t 5. Devia para a vítima?\n",
    "''')\n",
    "i = 1\n",
    "resp = [\"S\",\"N\"]\n",
    "\n",
    "while i < 6:\n",
    "    resposta = input(f\"Responda a {i}ª pergunta com 'S' ou 'N': \")\n",
    "    resposta = resposta.upper()\n",
    "    if resposta not in resp:\n",
    "        i += 0\n",
    "    else:\n",
    "        i += 1\n",
    "        pontos.append(resposta)\n",
    "        print(pontos)\n",
    "\n",
    "n = pontos.count(\"S\")\n",
    "if n <= 1:\n",
    "    print(\"Inocente\")\n",
    "elif n <= 2:\n",
    "    print(\"Suspeito\")\n",
    "elif n <= 4:\n",
    "    print(\"Cumplice\")\n",
    "else:\n",
    "    print(\"Assassino!\")"
   ]
  },
  {
   "cell_type": "markdown",
   "metadata": {},
   "source": [
    "\n",
    "9. Um produto vai sofrer aumento de acordo com a Tabela 1 abaixo. Faça\n",
    "um programa que peça para o usuário digitar o valor do produto de\n",
    "acordo com o preço antigo e escreva uma das mensagens da Tabela\n",
    "2, de acordo com o preço reajustado:\n",
    "\n",
    "REAJUSTE: \n",
    "\n",
    "- Até 50 : 5\\%\n",
    "\n",
    "- Entre 50 e 100 : 10\\%\n",
    "\n",
    "- Entre 100 e 150 : 13\\%\n",
    "\n",
    "- Acima de 150 : 15\\%\n",
    "\n",
    "MENSAGENS: \n",
    "\n",
    "- Até 80 : Barato\n",
    "\n",
    "- Entre 80 e 115 : Razoável\n",
    "\n",
    "- Entre 115 e 150 : Normal\n",
    "\n",
    "- Entre 150 e 170 : Caro\n",
    "\n",
    "- Acima de 170 : Muito caro"
   ]
  },
  {
   "cell_type": "code",
   "execution_count": null,
   "metadata": {},
   "outputs": [],
   "source": []
  },
  {
   "cell_type": "markdown",
   "metadata": {},
   "source": [
    "__________________\n",
    "__________________\n",
    "\n",
    "__________________\n",
    "__________________"
   ]
  },
  {
   "cell_type": "markdown",
   "metadata": {},
   "source": [
    "# DESAFIOS"
   ]
  },
  {
   "cell_type": "markdown",
   "metadata": {},
   "source": [
    "\n",
    "1. Faça um programa que leia 3 números e informe o maior deles.\n",
    "\n"
   ]
  },
  {
   "cell_type": "code",
   "execution_count": 7,
   "metadata": {
    "ExecuteTime": {
     "end_time": "2021-10-26T15:03:32.098192Z",
     "start_time": "2021-10-26T15:03:27.316189Z"
    }
   },
   "outputs": [
    {
     "name": "stdout",
     "output_type": "stream",
     "text": [
      "digite um número: 5\n",
      "digite um número: 10\n",
      "digite um número: 99\n",
      "O maior número é: 99\n"
     ]
    }
   ],
   "source": [
    "lista_num = []\n",
    "count = 1\n",
    "while count <= 3:\n",
    "    numero = int(input(\"digite um número: \"))\n",
    "    lista_num.append(numero)\n",
    "    count +=1 \n",
    "\n",
    "ord_decrescente = sorted(lista_num, reverse = True)\n",
    "print(f\"O maior número é: {ord_decrescente[0]}\")"
   ]
  },
  {
   "cell_type": "markdown",
   "metadata": {},
   "source": [
    "2. Faça o mesmo programa do exercício anterior, porém com 4\n",
    "números.\n",
    "\n"
   ]
  },
  {
   "cell_type": "code",
   "execution_count": 8,
   "metadata": {
    "ExecuteTime": {
     "end_time": "2021-10-26T15:04:01.336462Z",
     "start_time": "2021-10-26T15:03:55.051446Z"
    }
   },
   "outputs": [
    {
     "name": "stdout",
     "output_type": "stream",
     "text": [
      "digite um número: 55\n",
      "digite um número: 99\n",
      "digite um número: 88\n",
      "digite um número: 150\n",
      "O maior número é: 150\n"
     ]
    }
   ],
   "source": [
    "lista_num = []\n",
    "count = 1\n",
    "while count <= 4:\n",
    "    numero = int(input(\"digite um número: \"))\n",
    "    lista_num.append(numero)\n",
    "    count +=1 \n",
    "\n",
    "ord_decrescente = sorted(lista_num, reverse = True)\n",
    "print(f\"O maior número é: {ord_decrescente[0]}\")"
   ]
  },
  {
   "cell_type": "markdown",
   "metadata": {},
   "source": [
    "3. Um hospital quer fazer o diagnóstico de gripe ou dengue a partir de\n",
    "um questionário de sintomas, tendo as perguntas abaixo, faça um\n",
    "programa que faça o diagnóstico deste hospital:\n",
    "a. Sente dor no corpo?\n",
    "b. Você tem febre?\n",
    "c. Você tem tosse?\n",
    "d. Está com congestão nasal?\n",
    "e. Tem manchas pelo corpo?\n",
    "Para o diagnóstico ele tem a seguinte tabela\n",
    "\n",
    "<img src=https://s3-sa-east-1.amazonaws.com/lcpi/7df17e28-dd5c-4ef0-8ccf-941aa400d2ab.JPG width=500>"
   ]
  },
  {
   "cell_type": "code",
   "execution_count": 2,
   "metadata": {
    "ExecuteTime": {
     "end_time": "2021-10-28T01:10:18.871618Z",
     "start_time": "2021-10-28T01:10:14.640334Z"
    }
   },
   "outputs": [
    {
     "name": "stdout",
     "output_type": "stream",
     "text": [
      "a. Sente dor no corpo?\n",
      "Responda com S ou N: s\n",
      "['S']\n",
      "[1]\n",
      "b. Você tem febre?\n",
      "Responda com S ou N: s\n",
      "['S', 'S']\n",
      "[1, 1]\n",
      "c. Você tem tosse?\n",
      "Responda com S ou N: s\n",
      "['S', 'S', 'S']\n",
      "[1, 1, 1]\n",
      "d. Está com congestão nasal?\n",
      "Responda com S ou N: s\n",
      "['S', 'S', 'S', 'S']\n",
      "[1, 1, 1, 1]\n",
      "e. Tem manchas pelo corpo?\n",
      "Responda com S ou N: n\n",
      "['S', 'S', 'S', 'S', 'N']\n",
      "[1, 1, 1, 1, 0]\n",
      "['Gripe']\n"
     ]
    }
   ],
   "source": [
    "# count = 0\n",
    "# lst_perguntas = [\n",
    "# \"a. Sente dor no corpo?\",\n",
    "# \"b. Você tem febre?\",\n",
    "# \"c. Você tem tosse?\",\n",
    "# \"d. Está com congestão nasal?\",\n",
    "# \"e. Tem manchas pelo corpo?\"\n",
    "# ]\n",
    "# lst_respostas = []\n",
    "# lst_binario = []\n",
    "\n",
    "# while count <= 4:\n",
    "#     for item in lst_perguntas:\n",
    "#         print(lst_perguntas[count])\n",
    "#         resposta = input(\"Responda com S ou N: \")\n",
    "#         resposta = resposta.upper()\n",
    "#         lst_respostas.append(resposta)\n",
    "#         lst_binario.append(1 if resposta == \"S\" else 0)\n",
    "#         count += 1\n",
    "#         print(lst_respostas)\n",
    "#         print(lst_binario)\n",
    "        \n",
    "# resultados_possiveis = [[1,1,0,0,1], \n",
    "#                         [1,1,1,1,0],\n",
    "#                         [0,1,1,1,0],\n",
    "#                         [1,1,1,1,0],\n",
    "#                         [1,0,0,0,0],\n",
    "#                         [0,0,0,0,0]]\n",
    "\n",
    "# resultado_final = [\"Dengue\" if lst_binario == resultados_possiveis[0] else \n",
    "#                    \"Gripe\" if lst_binario in resultados_possiveis[1:4] else \n",
    "#                    \"Sem doenças\" if lst_binario in resultados_possiveis[4:6] else\n",
    "#                   \"Há sintomas diversos\"]\n",
    "\n",
    "# print(resultado_final)\n",
    "\n",
    "\n",
    "\n",
    "count = 0\n",
    "lst_perguntas = [\n",
    "\"a. Sente dor no corpo?\",\n",
    "\"b. Você tem febre?\",\n",
    "\"c. Você tem tosse?\",\n",
    "\"d. Está com congestão nasal?\",\n",
    "\"e. Tem manchas pelo corpo?\"\n",
    "]\n",
    "lst_respostas = []\n",
    "lst_binario = []\n",
    "\n",
    "while count <= 4:\n",
    "    for item in lst_perguntas:\n",
    "        print(lst_perguntas[count])\n",
    "        resposta = input(\"Responda com S ou N: \")\n",
    "        resposta = resposta.upper()\n",
    "        \n",
    "        while resposta not in [\"S\", \"N\"]:\n",
    "            print(lst_perguntas[count])\n",
    "            resposta = input(\"Responda com S ou N: \")\n",
    "            resposta = resposta.upper()\n",
    "        else:\n",
    "            lst_respostas.append(resposta)\n",
    "            lst_binario.append(1 if resposta == \"S\" else 0)\n",
    "            count += 1\n",
    "            print(lst_respostas)\n",
    "            print(lst_binario)\n",
    "        \n",
    "resultados_possiveis = [[1,1,0,0,1], \n",
    "                        [1,1,1,1,0],\n",
    "                        [0,1,1,1,0],\n",
    "                        [1,1,1,1,0],\n",
    "                        [1,0,0,0,0],\n",
    "                        [0,0,0,0,0]]\n",
    "\n",
    "resultado_final = [\"Dengue\" if lst_binario == resultados_possiveis[0] else \n",
    "                   \"Gripe\" if lst_binario in resultados_possiveis[1:4] else \n",
    "                   \"Sem doenças\" if lst_binario in resultados_possiveis[4:6] else\n",
    "                  \"Há sintomas diversos\"]\n",
    "\n",
    "print(resultado_final)"
   ]
  },
  {
   "cell_type": "code",
   "execution_count": 15,
   "metadata": {
    "ExecuteTime": {
     "end_time": "2021-10-26T20:26:10.976032Z",
     "start_time": "2021-10-26T20:25:51.411010Z"
    }
   },
   "outputs": [
    {
     "name": "stdout",
     "output_type": "stream",
     "text": [
      "a. Sente dor no corpo?\n",
      "Responda com S ou N: a\n",
      "a. Sente dor no corpo?\n",
      "Responda com S ou N: s\n",
      "['S']\n",
      "[1]\n",
      "b. Você tem febre?\n",
      "Responda com S ou N: a3\n",
      "b. Você tem febre?\n",
      "Responda com S ou N: w\n",
      "b. Você tem febre?\n",
      "Responda com S ou N: s\n",
      "['S', 'S']\n",
      "[1, 1]\n",
      "c. Você tem tosse?\n",
      "Responda com S ou N: n\n",
      "['S', 'S', 'N']\n",
      "[1, 1, 0]\n",
      "d. Está com congestão nasal?\n",
      "Responda com S ou N: a\n",
      "d. Está com congestão nasal?\n",
      "Responda com S ou N: a\n",
      "d. Está com congestão nasal?\n",
      "Responda com S ou N: n\n",
      "['S', 'S', 'N', 'N']\n",
      "[1, 1, 0, 0]\n",
      "e. Tem manchas pelo corpo?\n",
      "Responda com S ou N: s\n",
      "['S', 'S', 'N', 'N', 'S']\n",
      "[1, 1, 0, 0, 1]\n",
      "['Dengue']\n"
     ]
    }
   ],
   "source": [
    "count = 0\n",
    "lst_perguntas = [\n",
    "\"a. Sente dor no corpo?\",\n",
    "\"b. Você tem febre?\",\n",
    "\"c. Você tem tosse?\",\n",
    "\"d. Está com congestão nasal?\",\n",
    "\"e. Tem manchas pelo corpo?\"\n",
    "]\n",
    "lst_respostas = []\n",
    "lst_binario = []\n",
    "respostas_possiveis = [\"S\", \"N\"]\n",
    "while count <= 4:\n",
    "    for item in lst_perguntas:\n",
    "        print(lst_perguntas[count])\n",
    "        resposta = input(\"Responda com S ou N: \")\n",
    "        resposta = resposta.upper()\n",
    "        \n",
    "        while resposta not in respostas_possiveis:\n",
    "            print(lst_perguntas[count])\n",
    "            resposta = input(\"Responda com S ou N: \")\n",
    "            resposta = resposta.upper()\n",
    "        else:\n",
    "            lst_respostas.append(resposta)\n",
    "            lst_binario.append(1 if resposta == \"S\" else 0)\n",
    "            count += 1\n",
    "            print(lst_respostas)\n",
    "            print(lst_binario)\n",
    "        \n",
    "resultados_possiveis = [[1,1,0,0,1], \n",
    "                        [1,1,1,1,0],\n",
    "                        [0,1,1,1,0],\n",
    "                        [1,1,1,1,0],\n",
    "                        [1,0,0,0,0],\n",
    "                        [0,0,0,0,0]]\n",
    "\n",
    "resp = \"Você está com \"\n",
    "resultado_final = [resp+\"dengue\" if lst_binario == resultados_possiveis[0] else \n",
    "                   resp+\"gripe\" if lst_binario in resultados_possiveis[1:4] else \n",
    "                   resp+\"a saúde em dia\" if lst_binario in resultados_possiveis[4:6] else\n",
    "                   resp+ \"sintomas diversos\"]\n",
    "\n",
    "print(resultado_final)"
   ]
  }
 ],
 "metadata": {
  "kernelspec": {
   "display_name": "Python 3",
   "language": "python",
   "name": "python3"
  },
  "language_info": {
   "codemirror_mode": {
    "name": "ipython",
    "version": 3
   },
   "file_extension": ".py",
   "mimetype": "text/x-python",
   "name": "python",
   "nbconvert_exporter": "python",
   "pygments_lexer": "ipython3",
   "version": "3.8.5"
  }
 },
 "nbformat": 4,
 "nbformat_minor": 4
}

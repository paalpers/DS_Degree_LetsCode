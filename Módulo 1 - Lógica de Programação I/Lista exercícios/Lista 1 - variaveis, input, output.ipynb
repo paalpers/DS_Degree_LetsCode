{
 "cells": [
  {
   "cell_type": "markdown",
   "metadata": {},
   "source": [
    "# Lista 1 - variáveis, input, output"
   ]
  },
  {
   "cell_type": "markdown",
   "metadata": {},
   "source": [
    "\n",
    "1. Faça um programa que mostre a mensagem \"Olá, mundo!\" na tela.\n"
   ]
  },
  {
   "cell_type": "code",
   "execution_count": 1,
   "metadata": {
    "ExecuteTime": {
     "end_time": "2021-10-19T00:41:54.637145Z",
     "start_time": "2021-10-19T00:41:54.627151Z"
    }
   },
   "outputs": [
    {
     "name": "stdout",
     "output_type": "stream",
     "text": [
      "Olá, Cocô!\n"
     ]
    }
   ],
   "source": [
    "print(\"Olá, Cocô!\")"
   ]
  },
  {
   "cell_type": "markdown",
   "metadata": {},
   "source": [
    "2. Faça um programa que peça um número e mostre a mensagem \"O número informado foi [número]\".\n"
   ]
  },
  {
   "cell_type": "code",
   "execution_count": 10,
   "metadata": {
    "ExecuteTime": {
     "end_time": "2021-10-19T00:45:43.236190Z",
     "start_time": "2021-10-19T00:45:42.324844Z"
    }
   },
   "outputs": [
    {
     "name": "stdin",
     "output_type": "stream",
     "text": [
      "Digite um número:  55\n"
     ]
    },
    {
     "name": "stdout",
     "output_type": "stream",
     "text": [
      "O número informado foi 55\n"
     ]
    }
   ],
   "source": [
    "numero = int(input(\"Digite um número: \"))\n",
    "print(f\"O número informado foi {numero}\")\n",
    "\n"
   ]
  },
  {
   "cell_type": "markdown",
   "metadata": {},
   "source": [
    "\n",
    "3. Faça um programa que peça um número para o usuário (string), converta-o para float e depois imprima-o na tela. Você consegue fazer a mesma coisa, porém convertendo para int?\n",
    "\n"
   ]
  },
  {
   "cell_type": "code",
   "execution_count": 18,
   "metadata": {
    "ExecuteTime": {
     "end_time": "2021-10-19T03:31:27.649690Z",
     "start_time": "2021-10-19T03:31:26.953996Z"
    }
   },
   "outputs": [
    {
     "name": "stdin",
     "output_type": "stream",
     "text": [
      "digite um numero:  55\n"
     ]
    },
    {
     "name": "stdout",
     "output_type": "stream",
     "text": [
      "55\n"
     ]
    },
    {
     "data": {
      "text/plain": [
       "int"
      ]
     },
     "execution_count": 18,
     "metadata": {},
     "output_type": "execute_result"
    }
   ],
   "source": [
    "numero = input(\"Informe um número: \")\n",
    "num = float(numero)\n",
    "num2 = int(numero)\n",
    "\n",
    "print(type(numero), num, num2)"
   ]
  },
  {
   "cell_type": "markdown",
   "metadata": {},
   "source": [
    "4. Faça um programa que peça dois números e imprima a soma deles.\n",
    "\n"
   ]
  },
  {
   "cell_type": "code",
   "execution_count": 26,
   "metadata": {
    "ExecuteTime": {
     "end_time": "2021-10-19T03:32:49.649251Z",
     "start_time": "2021-10-19T03:32:47.706975Z"
    }
   },
   "outputs": [
    {
     "name": "stdin",
     "output_type": "stream",
     "text": [
      "digite o numero 1 5\n",
      "diite o numero2 12\n"
     ]
    },
    {
     "name": "stdout",
     "output_type": "stream",
     "text": [
      "O resultado é 17\n"
     ]
    }
   ],
   "source": [
    "num1 = float(input(\"Informe o primeiro número: \"))\n",
    "num2 = float(input(\"Informe o segundo número: \"))\n",
    "soma = num1+num2\n",
    "print(f\"A soma dos números digitados é: {soma}\")"
   ]
  },
  {
   "cell_type": "markdown",
   "metadata": {},
   "source": [
    "5. Faça um programa que peça as 4 notas bimestrais de um aluno e mostre a média aritmética delas.\n"
   ]
  },
  {
   "cell_type": "code",
   "execution_count": 28,
   "metadata": {
    "ExecuteTime": {
     "end_time": "2021-10-19T04:13:14.706005Z",
     "start_time": "2021-10-19T04:13:06.574346Z"
    }
   },
   "outputs": [
    {
     "name": "stdin",
     "output_type": "stream",
     "text": [
      "Informe quantas notas deseja calcular:  4\n",
      "Informe sua 1ª nota:  6.5\n",
      "Informe sua 2ª nota:  7\n",
      "Informe sua 3ª nota:  9\n",
      "Informe sua 4ª nota:  8\n"
     ]
    },
    {
     "name": "stdout",
     "output_type": "stream",
     "text": [
      "Soma das notas: 30.5\n",
      "Total informado: 4\n",
      "\t A sua média é 7.62\n"
     ]
    }
   ],
   "source": [
    "qtd = int(input(\"Informe quantas notas deseja calcular: \"))\n",
    "lista = []\n",
    "n = 1 \n",
    "while n <= qtd:\n",
    "    nota = float(input(f\"Informe sua {n}ª nota: \"))\n",
    "    n += 1\n",
    "    lista.append(nota)\n",
    "    media = sum(lista)/len(lista)\n",
    "print(f\"Soma das notas: {sum(lista)}\\nTotal informado: {len(lista)}\")\n",
    "print(f\"\\t A sua média é {media:.2f}\")"
   ]
  },
  {
   "cell_type": "markdown",
   "metadata": {},
   "source": [
    "\n",
    "6. Faça um programa que converta um valor em metros para centímetros.\n",
    "\n"
   ]
  },
  {
   "cell_type": "code",
   "execution_count": 51,
   "metadata": {
    "ExecuteTime": {
     "end_time": "2021-10-19T03:44:12.961710Z",
     "start_time": "2021-10-19T03:44:09.129458Z"
    }
   },
   "outputs": [
    {
     "name": "stdin",
     "output_type": "stream",
     "text": [
      "Informe a metragem para converter em cm:  5\n"
     ]
    },
    {
     "name": "stdout",
     "output_type": "stream",
     "text": [
      "5.0 metros equivalem a 500.0 centimetros\n"
     ]
    }
   ],
   "source": [
    "metros = float(input(\"Informe a metragem para converter em cm: \"))\n",
    "cm = metros*100\n",
    "\n",
    "print(f\"{metros} metros equivalem a {cm} centimetros\")"
   ]
  },
  {
   "cell_type": "markdown",
   "metadata": {},
   "source": [
    "7. Faça um programa que peça o raio de um círculo, calcule e mostre sua área. Obs: Fórmula da área de um círculo: A = 3,14*r2, onde r é o raio.\n"
   ]
  },
  {
   "cell_type": "code",
   "execution_count": 32,
   "metadata": {
    "ExecuteTime": {
     "end_time": "2021-10-19T03:46:47.002904Z",
     "start_time": "2021-10-19T03:46:45.875450Z"
    }
   },
   "outputs": [
    {
     "name": "stdout",
     "output_type": "stream",
     "text": [
      "Informe o raio do circulo: 5\n",
      "A área do cirulo é de 78.5\n"
     ]
    }
   ],
   "source": [
    "raio = float(input(\"Informe o raio do circulo em metros: \"))\n",
    "\n",
    "area = 3.14 * raio**2\n",
    "\n",
    "print(f\"A área do cirulo é de {area}m²\")"
   ]
  },
  {
   "cell_type": "markdown",
   "metadata": {},
   "source": [
    "\n",
    "8. Faça um programa que pergunte quanto você ganha por hora e o número de horas trabalhadas no mês e depois, calcule e mostre o total do seu salário no referido mês.\n",
    "\n"
   ]
  },
  {
   "cell_type": "code",
   "execution_count": 56,
   "metadata": {},
   "outputs": [
    {
     "name": "stdin",
     "output_type": "stream",
     "text": [
      "informe seu salario por hora trabalhada:  80\n",
      "Informe a quantidade de horas trabalhadas 160\n"
     ]
    },
    {
     "name": "stdout",
     "output_type": "stream",
     "text": [
      "O seu salário este mês foi de R$12800.00\n"
     ]
    }
   ],
   "source": [
    "salario_hr = float(input(\"informe seu salario por hora trabalhada: \"))\n",
    "qtd_hrs = int(input(\"Informe a quantidade de horas trabalhadas\"))\n",
    "\n",
    "total_salario = qtd_hrs*salario_hr\n",
    "\n",
    "print(f\"O seu salário este mês foi de R${total_salario:.2f}\")"
   ]
  },
  {
   "cell_type": "markdown",
   "metadata": {},
   "source": [
    "9. Faça um programa que peça a temperatura em graus Fahrenheit (F), transforme e mostre a temperatura em graus Celsius (°C). °C = (5 * (F-32) / 9) Obs: Tente também fazer um programa que faça o inverso: peça a temperatura em graus Celsius e a transforme em graus Fahrenheit.\n"
   ]
  },
  {
   "cell_type": "code",
   "execution_count": 60,
   "metadata": {},
   "outputs": [
    {
     "name": "stdin",
     "output_type": "stream",
     "text": [
      "Informe a temperatura em graus Fahrenheit 72\n"
     ]
    },
    {
     "name": "stdout",
     "output_type": "stream",
     "text": [
      "72.0º Fahrenheit equivale a 22.22222222222222º Celsius\n"
     ]
    }
   ],
   "source": [
    "temp_fah = float(input(\"Informe a temperatura em graus Fahrenheit\"))\n",
    "\n",
    "celsius = 5*((temp_fah-32)/9)\n",
    "print(f\"{}º Fahrenheit equivale a {celsius:.2f}º Celsius\")"
   ]
  },
  {
   "cell_type": "markdown",
   "metadata": {},
   "source": [
    "\n",
    "10. Faça um programa que peça o dia, o mês e o ano para o usuário e imprima a data completa no formato dd/mm/aaaa.\n",
    "\n"
   ]
  },
  {
   "cell_type": "code",
   "execution_count": 34,
   "metadata": {
    "ExecuteTime": {
     "end_time": "2021-10-19T03:56:50.951740Z",
     "start_time": "2021-10-19T03:56:44.221615Z"
    }
   },
   "outputs": [
    {
     "name": "stdout",
     "output_type": "stream",
     "text": [
      "Informe o dia: 5\n",
      "O mês: 10\n",
      "E o ano: 1991\n",
      "5/10/1991\n"
     ]
    }
   ],
   "source": [
    "dia = int(input(\"Informe o dia: \"))\n",
    "mes = int(input(\"O mês: \"))\n",
    "ano = int(input(\"E o ano: \"))\n",
    "\n",
    "data = f\"{dia}/{mes}/{ano}\"\n",
    "\n",
    "print(data)\n"
   ]
  },
  {
   "cell_type": "markdown",
   "metadata": {},
   "source": [
    "11. Faça um programa que peça 2 números inteiros e um número real, calcule e mostre:\n",
    "a) o produto do dobro do primeiro com metade do segundo.\n",
    "b) a soma do triplo do primeiro com o terceiro.\n",
    "c) o terceiro elevado ao cubo.\n",
    "\n"
   ]
  },
  {
   "cell_type": "code",
   "execution_count": null,
   "metadata": {},
   "outputs": [],
   "source": [
    "num1 = int(input(\"Informe o primeiro número: \"))\n",
    "num2 = int(input(\"Informe o segundo número: \"))\n",
    "num3 = float(input(\"Informe o terceiro número: \"))\n",
    "\n",
    "a = (num1*2) * (num2*0.5)\n",
    "b = (num1*3) + num3\n",
    "c = num3**3\n",
    "\n",
    "print(a, b, c)"
   ]
  },
  {
   "cell_type": "markdown",
   "metadata": {},
   "source": [
    "12. Faça um programa que peça o peso e altura de uma pessoa e calcule seu IMC (Índice de Massa Corporal).\n",
    "Obs: IMC = Peso/Altura2\n",
    "\n"
   ]
  },
  {
   "cell_type": "code",
   "execution_count": 4,
   "metadata": {
    "ExecuteTime": {
     "end_time": "2021-10-20T15:59:32.557040Z",
     "start_time": "2021-10-20T15:59:27.369003Z"
    }
   },
   "outputs": [
    {
     "name": "stdout",
     "output_type": "stream",
     "text": [
      "Informe seu peso: 96\n",
      "Informe sua altura: 1.7\n",
      "33.22\n"
     ]
    }
   ],
   "source": [
    "peso = float(input(\"Informe seu peso: \"))\n",
    "altura = float(input(\"Informe sua altura: \"))\n",
    "\n",
    "imc = peso/(altura**2)\n",
    "\n",
    "print(f\"{imc:.2f}\")"
   ]
  },
  {
   "cell_type": "markdown",
   "metadata": {},
   "source": [
    "13. Faça um programa que peça um valor monetário e aumente-o em\n",
    "15%. Seu programa deve imprimir a mensagem “O novo valor é\n",
    "R$[valor]”.\n"
   ]
  },
  {
   "cell_type": "code",
   "execution_count": null,
   "metadata": {},
   "outputs": [],
   "source": []
  },
  {
   "cell_type": "markdown",
   "metadata": {},
   "source": [
    "\n",
    "14. Faça um programa que peça um valor monetário e diminua-o em 15%.\n",
    "Seu programa deve imprimir a mensagem “O novo valor é R$[valor]”.\n"
   ]
  },
  {
   "cell_type": "code",
   "execution_count": null,
   "metadata": {},
   "outputs": [],
   "source": []
  },
  {
   "cell_type": "markdown",
   "metadata": {},
   "source": [
    "__________________\n",
    "__________________\n",
    "\n",
    "__________________\n",
    "__________________\n"
   ]
  },
  {
   "cell_type": "markdown",
   "metadata": {},
   "source": [
    "# DESAFIOS"
   ]
  },
  {
   "cell_type": "markdown",
   "metadata": {},
   "source": [
    "\n",
    "1. Peça para o usuário digitar uma velocidade inicial (em m/s), uma posição inicial (em m) e um instante de tempo (em s) e imprima a posição de um projétil nesse instante de tempo. Dica: use a fórmula matemática:\n",
    "$yt = y0 + v0*t + (1/2)*gt^2$\n",
    "Onde, g é a aceleração da gravidade (-10m/s²), y(t) é a posição\n",
    "final, y(0) é a posição inicial, v(0) é a velocidade inicial e t é o\n",
    "instante de tempo.\n"
   ]
  },
  {
   "cell_type": "code",
   "execution_count": 6,
   "metadata": {
    "ExecuteTime": {
     "end_time": "2021-10-21T01:09:43.654139Z",
     "start_time": "2021-10-21T01:09:42.169132Z"
    }
   },
   "outputs": [
    {
     "name": "stdout",
     "output_type": "stream",
     "text": [
      "Informe a velocidade inicial: 10\n",
      "Informe uma posição inicial em metros: 5\n",
      "Informe o tempo decorrido em segundos3\n",
      "A distancia percorrida foi de -10.0 em 3 segundos\n"
     ]
    }
   ],
   "source": [
    "v_inicial = float(input(\"Informe a velocidade inicial: \"))\n",
    "pos_inicial = float(input(\"Informe uma posição inicial em metros: \"))\n",
    "tempo = int(input(\"Informe o tempo decorrido em segundos\"))\n",
    "g = -10\n",
    "\n",
    "yt = pos_inicial + v_inicial * tempo + (0.5 * g*tempo**2)\n",
    "\n",
    "print(f\"A distancia percorrida foi de {yt} em {tempo} segundos\")"
   ]
  },
  {
   "cell_type": "markdown",
   "metadata": {},
   "source": [
    "\n",
    "2. Faça um programa que informe a data e a hora para o usuário. Para\n",
    "isso use a função datetime.now() do módulo datetime"
   ]
  },
  {
   "cell_type": "code",
   "execution_count": null,
   "metadata": {},
   "outputs": [],
   "source": [
    "from datetime import datetime\n",
    "data = datetime.now().strftime(\"%d/%m/%Y %H:%M\")\n",
    "print(data)"
   ]
  }
 ],
 "metadata": {
  "kernelspec": {
   "display_name": "Python 3",
   "language": "python",
   "name": "python3"
  },
  "language_info": {
   "codemirror_mode": {
    "name": "ipython",
    "version": 3
   },
   "file_extension": ".py",
   "mimetype": "text/x-python",
   "name": "python",
   "nbconvert_exporter": "python",
   "pygments_lexer": "ipython3",
   "version": "3.8.5"
  }
 },
 "nbformat": 4,
 "nbformat_minor": 4
}

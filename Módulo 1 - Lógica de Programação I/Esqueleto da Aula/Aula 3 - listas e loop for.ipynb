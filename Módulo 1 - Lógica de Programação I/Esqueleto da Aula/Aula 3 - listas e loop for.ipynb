{
 "cells": [
  {
   "cell_type": "markdown",
   "metadata": {},
   "source": [
    "# Aula 3 - listas e loop for\n",
    "\n",
    "Na aula de hoje, vamos explorar os seguintes tópicos em Python:\n",
    "\n",
    "- 1) Listas\n",
    "- 2) Funções de listas\n",
    "- 3) Laços de repetição (for)\n",
    "    - 3.1) Compreensão de listas\n",
    "\n",
    "_________________\n"
   ]
  },
  {
   "cell_type": "markdown",
   "metadata": {},
   "source": [
    "____\n",
    "____\n",
    "____"
   ]
  },
  {
   "cell_type": "markdown",
   "metadata": {},
   "source": [
    "## 1) Listas\n",
    "\n",
    "Imagine que você quer armazenar várias variáveis relacionadas, como, por exemplo, todas suas notas em provas.\n",
    "\n",
    "Se houver muitas notas, não é muito prático criar uma variável para cada uma. Seria muito mais conveniente armazenar todas as notas em uma **lista**, não é mesmo? \n",
    "\n",
    "Em python, temos uma estrutura de dados que é exatamente isso: uma lista! Listas são indicadas por colchete []\n",
    "\n",
    "Uma lista nada mais é que um **conjunto de objetos**, que podem ser de diversos tipos:"
   ]
  },
  {
   "cell_type": "markdown",
   "metadata": {},
   "source": [
    "Lista de números (int e float)"
   ]
  },
  {
   "cell_type": "code",
   "execution_count": null,
   "metadata": {},
   "outputs": [],
   "source": []
  },
  {
   "cell_type": "markdown",
   "metadata": {},
   "source": [
    "Lista de strings"
   ]
  },
  {
   "cell_type": "code",
   "execution_count": null,
   "metadata": {},
   "outputs": [],
   "source": []
  },
  {
   "cell_type": "markdown",
   "metadata": {},
   "source": [
    "Lista de números e strings"
   ]
  },
  {
   "cell_type": "code",
   "execution_count": null,
   "metadata": {},
   "outputs": [],
   "source": []
  },
  {
   "cell_type": "markdown",
   "metadata": {},
   "source": [
    "Lista de listas"
   ]
  },
  {
   "cell_type": "code",
   "execution_count": null,
   "metadata": {},
   "outputs": [],
   "source": []
  },
  {
   "cell_type": "markdown",
   "metadata": {},
   "source": [
    "Tudo junto"
   ]
  },
  {
   "cell_type": "code",
   "execution_count": null,
   "metadata": {},
   "outputs": [],
   "source": []
  },
  {
   "cell_type": "markdown",
   "metadata": {},
   "source": [
    "Muitas vezes, queremos **acessar elementos individuais** da lista. \n",
    "\n",
    "Para fazer isso, devemos indicar qual é o **índice** respectivo ao elemento, isto é, qual é a **posição** do elemento dentro da lista\n",
    "\n",
    "Para acessar o elemento na **posição i** da lista \"minha_lista\", fazemos:\n",
    "\n",
    "```python\n",
    "minha_lista[i]\n",
    "```\n",
    "\n",
    "__MUITO IMPORTANTE: a numeração de índice começa em zero!__\n",
    "\n",
    "Ou seja:\n",
    "\n",
    "- O primeiro elemento tem índice 0: ```minha_lista[0]``` ,\n",
    "- O segundo tem índice 1: ```minha_lista[1]```,\n",
    "\n",
    "E assim por diante!\n",
    "\n",
    "Também podemos acessar os últimos elementos, usando índices negativos:\n",
    "\n",
    "- O último elemento tem índice -1: ```minha_lista[-1]```,\n",
    "- O penúltimo tem índice -2: ```minha_lista[-2]```,\n",
    "\n",
    "E assim por diante!"
   ]
  },
  {
   "cell_type": "code",
   "execution_count": null,
   "metadata": {},
   "outputs": [],
   "source": []
  },
  {
   "cell_type": "markdown",
   "metadata": {},
   "source": [
    "Também podemos **acessar pedaços da lista**, indicando o intervalo de índices que queremos, separados por \":\",  **com intervalo superior aberto**:\n",
    "\n",
    "- ```minha_lista[1:3]```: seleciona os elementos de indice 1 até indice 2\n",
    "- ```minha_lista[:4]```: seleciona do primeiro elemento até o de índice 3\n",
    "- ```minha_lista[3:]```: seleciona do elemento de índice 3 até o final\n",
    "- ```minha_lista[:]```: seleciona a lista inteira\n",
    "\n",
    "Este conceito é chamado de \"slicing\" em Python, pois você está pegando \"fatias\" da lista!"
   ]
  },
  {
   "cell_type": "code",
   "execution_count": null,
   "metadata": {},
   "outputs": [],
   "source": []
  },
  {
   "cell_type": "markdown",
   "metadata": {},
   "source": [
    "Podemos também fazer algumas **operações com listas**"
   ]
  },
  {
   "cell_type": "markdown",
   "metadata": {},
   "source": [
    "Soma de listas: ao **somar listas**, os elementos são **concatenados**, na ordem dada, para formar uma lista maior:"
   ]
  },
  {
   "cell_type": "code",
   "execution_count": null,
   "metadata": {},
   "outputs": [],
   "source": []
  },
  {
   "cell_type": "markdown",
   "metadata": {},
   "source": [
    "Ao **multiplicar listas por um inteiro**, os elementos são repetidos, na ordem que aparecem:"
   ]
  },
  {
   "cell_type": "code",
   "execution_count": null,
   "metadata": {},
   "outputs": [],
   "source": []
  },
  {
   "cell_type": "markdown",
   "metadata": {},
   "source": [
    "Se quisermos somar os elementos de duas listas, ou multiplicá-los por algum número, temos que usar um **laço**, como veremos logo mais!"
   ]
  },
  {
   "cell_type": "markdown",
   "metadata": {},
   "source": [
    "É possível transformar strings em uma **lista de caracteres**:"
   ]
  },
  {
   "cell_type": "code",
   "execution_count": null,
   "metadata": {},
   "outputs": [],
   "source": []
  },
  {
   "cell_type": "markdown",
   "metadata": {},
   "source": [
    "__________\n",
    "__________\n",
    "__________"
   ]
  },
  {
   "cell_type": "markdown",
   "metadata": {},
   "source": [
    "## 2) Funções de listas"
   ]
  },
  {
   "cell_type": "markdown",
   "metadata": {},
   "source": [
    "Podemos começar com uma lista vazia, e preenchê-la aos poucos.\n",
    "\n",
    "Para **criar uma lista vazia**, fazemos:"
   ]
  },
  {
   "cell_type": "code",
   "execution_count": null,
   "metadata": {},
   "outputs": [],
   "source": []
  },
  {
   "cell_type": "markdown",
   "metadata": {},
   "source": [
    "Para adicionar um elemento **ao fim da lista**, usamos a função \"append()\".\n",
    "\n",
    "**OBS.: só podemos apendar um único elemento por vez!**"
   ]
  },
  {
   "cell_type": "code",
   "execution_count": null,
   "metadata": {},
   "outputs": [],
   "source": []
  },
  {
   "cell_type": "markdown",
   "metadata": {},
   "source": [
    "Se você quiser adicionar um elemento numa **posição específica**, use a função \"insert()\", onde o primeiro argumento é a posição, e o segundo é o elemento:\n",
    "\n",
    "**OBS.: só podemos inserir um único elemento por vez!**"
   ]
  },
  {
   "cell_type": "code",
   "execution_count": null,
   "metadata": {},
   "outputs": [],
   "source": []
  },
  {
   "cell_type": "markdown",
   "metadata": {},
   "source": [
    "Podemos, também, **redefinir um elemento da lista individualmente**. Para isso, basta selecionarmos este elemento, e redefiní-lo:"
   ]
  },
  {
   "cell_type": "code",
   "execution_count": null,
   "metadata": {},
   "outputs": [],
   "source": []
  },
  {
   "cell_type": "markdown",
   "metadata": {},
   "source": [
    "Para **remover um elemento da lista**, use a função \"remove()\". \n",
    "\n",
    "**OBS.: Essa função remove apenas a primeira aparição do elemento**"
   ]
  },
  {
   "cell_type": "code",
   "execution_count": null,
   "metadata": {},
   "outputs": [],
   "source": []
  },
  {
   "cell_type": "markdown",
   "metadata": {},
   "source": [
    "Se você quiser remover um elemento de determinado índice, use a função \"pop()\":"
   ]
  },
  {
   "cell_type": "code",
   "execution_count": null,
   "metadata": {},
   "outputs": [],
   "source": []
  },
  {
   "cell_type": "markdown",
   "metadata": {},
   "source": [
    "Muitas vezes é interessante **ordenar a lista**. Pra fazer isso, usamos a função \"sorted\".\n",
    "\n",
    "**OBS: essa função só funciona para listas com o mesmo tipo de dado!**"
   ]
  },
  {
   "cell_type": "code",
   "execution_count": null,
   "metadata": {},
   "outputs": [],
   "source": []
  },
  {
   "cell_type": "markdown",
   "metadata": {},
   "source": [
    "Para **inverter a ordem dos elementos**, adicione ao final da lista [::-1]:"
   ]
  },
  {
   "cell_type": "code",
   "execution_count": null,
   "metadata": {},
   "outputs": [],
   "source": []
  },
  {
   "cell_type": "markdown",
   "metadata": {},
   "source": [
    "Isso pode ser usado para ordenar uma lista na ordem inversa (maior pro menor):"
   ]
  },
  {
   "cell_type": "code",
   "execution_count": null,
   "metadata": {},
   "outputs": [],
   "source": []
  },
  {
   "cell_type": "markdown",
   "metadata": {},
   "source": [
    "Se quisermos saber **qual é a posição (índice) de determinado elemento**, usamos o método \".index()\".\n",
    "\n",
    "Este método retorna apenas a **primeira aparição** do elemento:"
   ]
  },
  {
   "cell_type": "code",
   "execution_count": null,
   "metadata": {},
   "outputs": [],
   "source": []
  },
  {
   "cell_type": "markdown",
   "metadata": {},
   "source": [
    "Por fim, podemos encontrar algumas **propriedades dos elementos da lista:**"
   ]
  },
  {
   "cell_type": "code",
   "execution_count": null,
   "metadata": {},
   "outputs": [],
   "source": []
  },
  {
   "cell_type": "markdown",
   "metadata": {},
   "source": [
    "Para encontrar o maior elemento, use \"max()\":"
   ]
  },
  {
   "cell_type": "code",
   "execution_count": null,
   "metadata": {},
   "outputs": [],
   "source": []
  },
  {
   "cell_type": "markdown",
   "metadata": {},
   "source": [
    "Para encontrar o menor elemento, use \"min()\":"
   ]
  },
  {
   "cell_type": "code",
   "execution_count": null,
   "metadata": {},
   "outputs": [],
   "source": []
  },
  {
   "cell_type": "markdown",
   "metadata": {},
   "source": [
    "Para encontrar o número de elementos (ou seja, qual é o \"tamanho\" da lista), use \"len()\":"
   ]
  },
  {
   "cell_type": "code",
   "execution_count": null,
   "metadata": {},
   "outputs": [],
   "source": []
  },
  {
   "cell_type": "markdown",
   "metadata": {},
   "source": [
    "Para somar os elementos da lista, use \"sum()\":"
   ]
  },
  {
   "cell_type": "code",
   "execution_count": null,
   "metadata": {},
   "outputs": [],
   "source": []
  },
  {
   "cell_type": "markdown",
   "metadata": {},
   "source": [
    "Agora fica bem fácil encontrar a média dos números em uma lista:"
   ]
  },
  {
   "cell_type": "code",
   "execution_count": null,
   "metadata": {},
   "outputs": [],
   "source": []
  },
  {
   "cell_type": "markdown",
   "metadata": {},
   "source": [
    "__Um exemplo para o cálculo de média dos valores em uma lista...__\n",
    "\n",
    "Mas fazemos o usuário digitar os elementos da lista, um a um!"
   ]
  },
  {
   "cell_type": "code",
   "execution_count": null,
   "metadata": {},
   "outputs": [],
   "source": []
  },
  {
   "cell_type": "markdown",
   "metadata": {},
   "source": [
    "__________\n",
    "__________\n",
    "__________"
   ]
  },
  {
   "cell_type": "markdown",
   "metadata": {},
   "source": [
    "## 3) Laços de repetição (for)\n",
    "\n",
    "Na última aula, vimos como usar o laço de repetição \"while\" para repetir operações em Python\n",
    "\n",
    "Agora, veremos um outro laço, o **for**\n",
    "\n",
    "Mas, antes de vermos como este laço pode ser utilizado para **repetir operações**, é interessante entender o `for` como sendo, na realidade, um operador utilizado para **percorrer elementos de uma lista** (na verdade, de qualquer objeto **iterável**. Conheceremos outros objetos assim mais pra frente...)\n",
    "\n",
    "A estrutura do for é:\n",
    "\n",
    "```python\n",
    "for item in lista:\n",
    "    operacao_feita_pra_cada_item\n",
    "```"
   ]
  },
  {
   "cell_type": "code",
   "execution_count": null,
   "metadata": {},
   "outputs": [],
   "source": []
  },
  {
   "cell_type": "markdown",
   "metadata": {},
   "source": [
    "O código acima é equivalente a:"
   ]
  },
  {
   "cell_type": "code",
   "execution_count": null,
   "metadata": {},
   "outputs": [],
   "source": []
  },
  {
   "cell_type": "markdown",
   "metadata": {},
   "source": [
    "__Um exemplo de uso...__\n",
    "\n",
    "Separando números positivos e negativos de uma lista de números"
   ]
  },
  {
   "cell_type": "code",
   "execution_count": null,
   "metadata": {},
   "outputs": [],
   "source": []
  },
  {
   "cell_type": "markdown",
   "metadata": {},
   "source": [
    "O \"for\" percorre todos os elementos de uma lista, a não ser que o \"break\" seja utilizado -- esse comando quebra o for, ou seja, os elementos param de ser percorridos"
   ]
  },
  {
   "cell_type": "code",
   "execution_count": null,
   "metadata": {},
   "outputs": [],
   "source": []
  },
  {
   "cell_type": "markdown",
   "metadata": {},
   "source": [
    "Podemos fazer operações com os elementos de umas lista e usá-los pra preencher outra lista:"
   ]
  },
  {
   "cell_type": "code",
   "execution_count": null,
   "metadata": {},
   "outputs": [],
   "source": []
  },
  {
   "cell_type": "markdown",
   "metadata": {},
   "source": [
    "_____\n",
    "\n",
    "### 3.1) Compreensão de listas\n",
    "\n",
    "Uma estrutura extremamente útil em python é a __compreensão de listas__ (list comprehension), com a qual é possível construir listas novas a partir de outras listas de forma bem condensada!\n",
    "\n",
    "A sintaxe é: \n",
    "\n",
    "```python\n",
    "[operacao_sobre_os_items for item in lista_base]\n",
    "```"
   ]
  },
  {
   "cell_type": "markdown",
   "metadata": {},
   "source": [
    "Por exemplo, é possível criar a mesma \"lista_dobro\" definida acima, de forma muito mais condensada:"
   ]
  },
  {
   "cell_type": "code",
   "execution_count": null,
   "metadata": {},
   "outputs": [],
   "source": []
  },
  {
   "cell_type": "markdown",
   "metadata": {},
   "source": [
    "Também é possível construir uma lista usando compreensão de listas com base em alguma estrutura condicional!\n",
    "\n",
    "Se você for utilizar apenas o if, a sintaxe é:\n",
    "\n",
    "```python\n",
    "[operacao_sobre_os_items for item in lista_base if condicao]\n",
    "```"
   ]
  },
  {
   "cell_type": "code",
   "execution_count": null,
   "metadata": {},
   "outputs": [],
   "source": []
  },
  {
   "cell_type": "markdown",
   "metadata": {},
   "source": [
    "Caso você queira utilizar também o else como parte da estrutura condicional, a sintaxe muda um pouco:\n",
    "\n",
    "```python\n",
    "[valor_caso_if if condicao else valor_caso_else for item in lista_base]\n",
    "```"
   ]
  },
  {
   "cell_type": "code",
   "execution_count": null,
   "metadata": {},
   "outputs": [],
   "source": []
  },
  {
   "cell_type": "markdown",
   "metadata": {},
   "source": [
    "_____\n",
    "_____"
   ]
  },
  {
   "cell_type": "markdown",
   "metadata": {},
   "source": [
    "É muito comum utilizarmos a função \"range()\" juntamente do for\n",
    "\n",
    "Essa função cria um **intervalo**, que é uma espécie de \"lista virtual\" de **números em sequência**. Sua sintaxe é:\n",
    "\n",
    "- range(primeiro_numero, último_numero - 1, passo)\n",
    "\n",
    "Se for dado apenas um argumento, o padrão é começar por zero, e ir de 1 em 1:\n",
    "\n",
    "- range(10) é equivalente a range(0, 10, 1), cria uma sequência de 0 a 9, de 1 em 1\n",
    "- range(-12, 12, 2): cria uma sequência de -12 a 11, de 2 em 2\n",
    "\n",
    "Ao fazermos list(range()), obtermos uma lista correspondente ao iterável.\n",
    "\n",
    "**OBS: só podemos fazer iteráveis de int!**"
   ]
  },
  {
   "cell_type": "code",
   "execution_count": null,
   "metadata": {},
   "outputs": [],
   "source": []
  },
  {
   "cell_type": "markdown",
   "metadata": {},
   "source": [
    "É muito comum usar o for com o range para **percorrer os índices de uma lista**, e assim também **acessar os elementos da lista através do índice**.\n",
    "\n",
    "Isso é feito passando pro range o comprinento da lista como argumento!"
   ]
  },
  {
   "cell_type": "code",
   "execution_count": null,
   "metadata": {},
   "outputs": [],
   "source": []
  },
  {
   "cell_type": "markdown",
   "metadata": {},
   "source": [
    "Note a diferença do que foi feito acima e o que é feito abaixo:"
   ]
  },
  {
   "cell_type": "code",
   "execution_count": null,
   "metadata": {},
   "outputs": [],
   "source": []
  },
  {
   "cell_type": "markdown",
   "metadata": {},
   "source": [
    "O range é muito interessante caso **queiramos repetir determinada instrução**\n",
    "\n",
    "Se vc quer repetir N vezes, basta fazer:\n",
    "\n",
    "```python\n",
    "for i in range(N):\n",
    "    operacao_repetida\n",
    "```\n",
    "\n",
    "É neste sentido que o `for` passa a ser explicitamente um laço de repetição!\n",
    "\n",
    "Mas note que este laço se diferencia do while no fato de **não precisar de uma condição explícita**\n",
    "\n",
    "Este laço determina que as operações sejam repetidas **para valores em uma lista** (que no caso é o `range`).\n",
    "\n",
    "Este laço é, portanto, bem mais controlado -- dificilmente ocorrerá loops infinitos!"
   ]
  },
  {
   "cell_type": "code",
   "execution_count": null,
   "metadata": {},
   "outputs": [],
   "source": []
  },
  {
   "cell_type": "markdown",
   "metadata": {},
   "source": [
    "Note que o código acima é equivalente a:"
   ]
  },
  {
   "cell_type": "code",
   "execution_count": null,
   "metadata": {},
   "outputs": [],
   "source": []
  },
  {
   "cell_type": "markdown",
   "metadata": {},
   "source": [
    "Exemplo de uso com o break"
   ]
  },
  {
   "cell_type": "code",
   "execution_count": null,
   "metadata": {},
   "outputs": [],
   "source": []
  },
  {
   "cell_type": "code",
   "execution_count": null,
   "metadata": {},
   "outputs": [],
   "source": []
  },
  {
   "cell_type": "markdown",
   "metadata": {},
   "source": [
    "___\n",
    "___\n",
    "\n",
    "### Vamos a um exercício que utilizada tudo o que vimos até então?"
   ]
  },
  {
   "cell_type": "code",
   "execution_count": null,
   "metadata": {},
   "outputs": [],
   "source": [
    "# desafio 3, lista 2\n"
   ]
  }
 ],
 "metadata": {
  "kernelspec": {
   "display_name": "Python 3",
   "language": "python",
   "name": "python3"
  },
  "language_info": {
   "codemirror_mode": {
    "name": "ipython",
    "version": 3
   },
   "file_extension": ".py",
   "mimetype": "text/x-python",
   "name": "python",
   "nbconvert_exporter": "python",
   "pygments_lexer": "ipython3",
   "version": "3.8.5"
  }
 },
 "nbformat": 4,
 "nbformat_minor": 4
}

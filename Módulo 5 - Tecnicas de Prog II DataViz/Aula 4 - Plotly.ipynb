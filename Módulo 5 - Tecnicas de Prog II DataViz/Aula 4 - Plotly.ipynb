{
 "cells": [
  {
   "cell_type": "markdown",
   "metadata": {},
   "source": [
    "# Módulo 5 - Técnicas de Programação II\n",
    "## Aula 4\n",
    "- Gráficos com Plotly\n",
    "- Exercícios"
   ]
  },
  {
   "cell_type": "markdown",
   "metadata": {},
   "source": [
    "## Gráficos com Plotly\n",
    "O módulo *plotly.express* (geralmente importado como px) contém funções que podem criar figuras inteiras de uma só vez e é chamado de Plotly Express ou PX. Plotly Express é uma parte interna da biblioteca plotly, e é o ponto de partida recomendado para a criação de figuras mais comuns. Cada função Plotly Express usa objetos de gráfico internamente e retorna uma instância plotly.graph_objects.Figure. Em toda a documentação de plotagem, você encontrará a maneira Plotly Express de construir figuras no topo de qualquer página aplicável, seguida por uma seção sobre como usar objetos de gráfico para construir figuras semelhantes. \n",
    "  \n",
    "**Documentação**: https://plotly.com/python-api-reference/plotly.express.html"
   ]
  },
  {
   "cell_type": "markdown",
   "metadata": {},
   "source": [
    "### Instalação\n",
    "Caso não tenha instalado o pacote do **Plotly** ou está na dúvida, basta rodar o seguinte código:"
   ]
  },
  {
   "cell_type": "code",
   "execution_count": null,
   "metadata": {},
   "outputs": [],
   "source": [
    "!pip install plotly"
   ]
  },
  {
   "cell_type": "markdown",
   "metadata": {},
   "source": [
    "### Import da biblioteca\n",
    "  \n",
    "Nos estudos referentes ao **Plotly** utilizaremos o submódulo *express*. Como padrão, damos o alias de *px*."
   ]
  },
  {
   "cell_type": "code",
   "execution_count": null,
   "metadata": {},
   "outputs": [],
   "source": [
    "import plotly.express as px"
   ]
  },
  {
   "cell_type": "markdown",
   "metadata": {},
   "source": [
    "Assim como foi feito no matplotlib, utilizaremos primeiramente exemplos didáticos com apenas duas listas de dados para exemplificarmos o uso das funções do pacote **plotly.express**."
   ]
  },
  {
   "cell_type": "code",
   "execution_count": null,
   "metadata": {},
   "outputs": [],
   "source": [
    "x = [1, 2, 3, 4, 5 ,6]\n",
    "y = [10, 5, 3, 4, 6, 8]\n",
    "px.scatter(x,y)"
   ]
  },
  {
   "cell_type": "markdown",
   "metadata": {},
   "source": [
    "Repare que para simplificar o trabalho o plotly já inicia com uma figura e área de desenho padrão, que você não precisa definir, e assim o código para gerar um gráfico pode ser simplesmente.  \n",
    "Além disso, há diversas funcionalidades para interação com o gráfico plotado."
   ]
  },
  {
   "cell_type": "markdown",
   "metadata": {},
   "source": [
    "Vamos importar também outros pacotes padrões"
   ]
  },
  {
   "cell_type": "code",
   "execution_count": null,
   "metadata": {},
   "outputs": [],
   "source": [
    "import pandas as pd\n",
    "import numpy as np\n",
    "import matplotlib.pyplot as plt\n",
    "\n",
    "%matplotlib inline"
   ]
  },
  {
   "cell_type": "markdown",
   "metadata": {},
   "source": [
    "## Scatter (dispersão)\n",
    "**Documentação**: https://plotly.com/python-api-reference/generated/plotly.express.scatter"
   ]
  },
  {
   "cell_type": "code",
   "execution_count": null,
   "metadata": {},
   "outputs": [],
   "source": [
    "x = [1, 2, 3, 4, 5 ,6]\n",
    "y = [10, 5, 3, 4, 6, 8]\n",
    "z=['a', 'b', 'c', 'c', 'a', 'a']\n",
    "px.scatter(x,y, color=z)"
   ]
  },
  {
   "cell_type": "markdown",
   "metadata": {},
   "source": [
    "Importando o dataset dos pinguins"
   ]
  },
  {
   "cell_type": "code",
   "execution_count": null,
   "metadata": {},
   "outputs": [],
   "source": [
    "df_size = pd.read_csv('./data/penguins_size.csv')\n",
    "df_size.head()"
   ]
  },
  {
   "cell_type": "code",
   "execution_count": null,
   "metadata": {},
   "outputs": [],
   "source": [
    "px.scatter(data_frame=df_size, x='body_mass_g', y='culmen_depth_mm')"
   ]
  },
  {
   "cell_type": "markdown",
   "metadata": {},
   "source": [
    "Vamos utilizar o matplotlib para obter o mesmo gráfico e assim podermos comparar visualmente as diferenças."
   ]
  },
  {
   "cell_type": "code",
   "execution_count": null,
   "metadata": {},
   "outputs": [],
   "source": [
    "plt.scatter(x=df_size['body_mass_g'], y=df_size['culmen_depth_mm']);"
   ]
  },
  {
   "cell_type": "markdown",
   "metadata": {},
   "source": [
    "Nota-se que a diferença visual entre os gráficos é enorme, porém a sintaxe que os gera não se diferencia tanto."
   ]
  },
  {
   "cell_type": "markdown",
   "metadata": {},
   "source": [
    "Podemos alterar as cores dos marcadores através de alguma variável do próprio dataframe como por exemplo o sexo dos pinguins.  \n",
    "  \n",
    "Por padrão o parâmetro *color* do px.scatter necessita de uma das colunas do próprio dataframe para realizar a marcação em cores das categorias."
   ]
  },
  {
   "cell_type": "code",
   "execution_count": null,
   "metadata": {},
   "outputs": [],
   "source": [
    "from sklearn import preprocessing\n",
    "\n",
    "df_size.dropna(inplace=True)"
   ]
  },
  {
   "cell_type": "code",
   "execution_count": null,
   "metadata": {},
   "outputs": [],
   "source": [
    "px.scatter(data_frame=df_size, x='body_mass_g', y='culmen_depth_mm', color='sex')"
   ]
  },
  {
   "cell_type": "markdown",
   "metadata": {},
   "source": [
    "Estilizando o gráfico."
   ]
  },
  {
   "cell_type": "code",
   "execution_count": null,
   "metadata": {},
   "outputs": [],
   "source": [
    "px.scatter(data_frame=df_size, x='body_mass_g', y='culmen_depth_mm', color='sex')"
   ]
  },
  {
   "cell_type": "markdown",
   "metadata": {},
   "source": [
    "## Linhas\n",
    "**Documentação**: https://plotly.com/python-api-reference/generated/plotly.express.line"
   ]
  },
  {
   "cell_type": "code",
   "execution_count": null,
   "metadata": {
    "scrolled": true
   },
   "outputs": [],
   "source": [
    "df_supermarket = pd.read_csv('.\\data\\supermarket_sales.csv')\n",
    "df_supermarket.head()"
   ]
  },
  {
   "cell_type": "code",
   "execution_count": null,
   "metadata": {},
   "outputs": [],
   "source": [
    "df_supermarket.info()"
   ]
  },
  {
   "cell_type": "code",
   "execution_count": null,
   "metadata": {
    "scrolled": true
   },
   "outputs": [],
   "source": [
    "df_supermarket['Date'] = pd.to_datetime(df_supermarket['Date'])"
   ]
  },
  {
   "cell_type": "code",
   "execution_count": null,
   "metadata": {},
   "outputs": [],
   "source": [
    "px.line(df_supermarket, 'Date', 'Total')"
   ]
  },
  {
   "cell_type": "code",
   "execution_count": null,
   "metadata": {},
   "outputs": [],
   "source": [
    "df_total=df_supermarket.pivot_table(index='Date', values='Total', aggfunc='sum')\n",
    "px.line(x=df_total.index, y=df_total['Total'])"
   ]
  },
  {
   "cell_type": "markdown",
   "metadata": {},
   "source": [
    "**No mesmo Eixo**"
   ]
  },
  {
   "cell_type": "code",
   "execution_count": null,
   "metadata": {},
   "outputs": [],
   "source": [
    "df_payment=df_supermarket.pivot_table(index='Date', columns='Payment', values='Total', aggfunc='sum')\n",
    "px.line(df_payment)"
   ]
  },
  {
   "cell_type": "markdown",
   "metadata": {},
   "source": [
    "Podemos estilizar o gráfico"
   ]
  },
  {
   "cell_type": "code",
   "execution_count": null,
   "metadata": {},
   "outputs": [],
   "source": [
    "df_payment=df_supermarket.pivot_table(index='Date', columns='Payment', values='Total', aggfunc='sum')\n",
    "fig=px.line(df_payment, title='Vendas no supermercado por meio de pagamento')\n",
    "\n",
    "fig.update_layout(xaxis_title=None,\n",
    "    yaxis_title=\"Valor total vendido\",\n",
    "    legend_title=\"Método de Pagamento\",\n",
    "    title={\n",
    "        'y':0.85,\n",
    "        'x':0.3,\n",
    "        'font_family': 'Times New Roman',\n",
    "        'font_color': 'black'\n",
    "    })\n"
   ]
  },
  {
   "cell_type": "markdown",
   "metadata": {},
   "source": [
    "**Em vários eixos**  \n",
    "Para realizar o plot do gráfico acima, porém agora em três gráficos separados, o Plotly Express possui um parâmetro chamado *facet_col* e *facet_row* cujas funções é manter os gráficos em face com outros, seja pela linha (horizontal), seja pela coluna (vertical). Estes parâmetros necessitam de alguma coluna do DataFrame da qual será separado o gráfico, de forma semelhante como é feito utilizando o parâmetro color."
   ]
  },
  {
   "cell_type": "code",
   "execution_count": null,
   "metadata": {},
   "outputs": [],
   "source": [
    "px.line(df_payment, facet_col='Payment')"
   ]
  },
  {
   "cell_type": "markdown",
   "metadata": {},
   "source": [
    "Agora um exemplo do uso do *facet_row*, ou seja, uso dos gráficos em face horizontalmente."
   ]
  },
  {
   "cell_type": "code",
   "execution_count": null,
   "metadata": {},
   "outputs": [],
   "source": [
    "fig=px.line(df_payment, facet_row='Payment', markers=True)\n",
    "\n",
    "fig.for_each_annotation(lambda a: a.update(text=a.text.split(\"=\")[-1]))\n",
    "fig.update_layout(legend_title=\"Método de Pagamento\")"
   ]
  },
  {
   "cell_type": "markdown",
   "metadata": {},
   "source": [
    "## Pizza\n",
    "**Documentação**: https://plotly.com/python-api-reference/generated/plotly.express.pie"
   ]
  },
  {
   "cell_type": "code",
   "execution_count": null,
   "metadata": {},
   "outputs": [],
   "source": [
    "df_pizza=df_supermarket.pivot_table(index='Branch', values='Quantity', aggfunc='sum')\n",
    "df_pizza"
   ]
  },
  {
   "cell_type": "code",
   "execution_count": null,
   "metadata": {},
   "outputs": [],
   "source": [
    "fig=px.pie(names=df_pizza.index)\n",
    "\n",
    "fig.show()"
   ]
  },
  {
   "cell_type": "markdown",
   "metadata": {},
   "source": [
    "## Barras\n",
    "**Documentação**: https://plotly.com/python-api-reference/generated/plotly.express.bar.html"
   ]
  },
  {
   "cell_type": "code",
   "execution_count": null,
   "metadata": {},
   "outputs": [],
   "source": [
    "df_bar = df_supermarket.pivot_table(index='Branch', values='Total', columns='Gender', aggfunc='sum')\n",
    "fig = px.bar(df_bar)\n",
    "\n",
    "fig.update_layout(\n",
    "    xaxis_title=\"Marca\",\n",
    "    yaxis_title=\"Total de vendas (R$)\",\n",
    "    legend_title=\"Gênero\",\n",
    "    title={\n",
    "        'text': 'Distribuição das vendas das marcas por gênero',\n",
    "        'y':0.95,\n",
    "        'x':0.5,\n",
    "        'font_color': 'grey'\n",
    "    })"
   ]
  },
  {
   "cell_type": "code",
   "execution_count": null,
   "metadata": {},
   "outputs": [],
   "source": [
    "df_bar = df_supermarket.pivot_table(index='Branch', values='Total', columns='Gender', aggfunc='sum')\n",
    "fig = px.bar(df_bar, barmode='group')\n",
    "\n",
    "fig.update_layout(\n",
    "    xaxis_title=\"Marca\",\n",
    "    yaxis_title=\"Total de vendas (R$)\",\n",
    "    legend_title=\"Gênero\",\n",
    "    title={\n",
    "        'text': 'Distribuição das vendas das marcas por gênero',\n",
    "        'y':0.95,\n",
    "        'x':0.5,\n",
    "        'font_color': 'grey'\n",
    "    })"
   ]
  },
  {
   "cell_type": "code",
   "execution_count": null,
   "metadata": {},
   "outputs": [],
   "source": [
    "df_bar = df_supermarket.pivot_table(index='Branch', values='Total', columns='Gender', aggfunc='sum')\n",
    "fig = px.bar(df_bar, facet_col='Gender')\n",
    "\n",
    "fig.update_layout(\n",
    "    yaxis_title=\"Total de vendas (R$)\",\n",
    "    legend_title=\"Gênero\",\n",
    "    title={\n",
    "        'text': 'Distribuição das vendas das marcas por gênero',\n",
    "        'y':0.95,\n",
    "        'x':0.5,\n",
    "        'font_color': 'grey'\n",
    "    })\n",
    "\n",
    "fig.for_each_annotation(lambda a: a.update(text=a.text.split(\"=\")[-1]))"
   ]
  },
  {
   "cell_type": "markdown",
   "metadata": {},
   "source": [
    "**Barras Horizontais**\n",
    "Para criar o gráfico de barras horizontais basta utilizar o parâmetro *orientation* como sendo 'h'"
   ]
  },
  {
   "cell_type": "code",
   "execution_count": null,
   "metadata": {},
   "outputs": [],
   "source": [
    "df_bar = df_supermarket.pivot_table(index='Branch', values='Total', columns='Gender', aggfunc='sum')\n",
    "fig = px.bar(df_bar, orientation='h')\n",
    "\n",
    "fig.update_layout(\n",
    "    xaxis_title=\"Total de vendas (R$)\",\n",
    "    yaxis_title=\"Marca\",\n",
    "    legend_title=\"Gênero\",\n",
    "    title={\n",
    "        'text': 'Distribuição das vendas das marcas por gênero',\n",
    "        'y':0.95,\n",
    "        'x':0.5,\n",
    "        'font_color': 'grey'\n",
    "    })"
   ]
  },
  {
   "cell_type": "markdown",
   "metadata": {},
   "source": [
    "## Histograma\n",
    "**Documentação**: https://plotly.github.io/plotly.py-docs/generated/plotly.express.histogram.html"
   ]
  },
  {
   "cell_type": "code",
   "execution_count": null,
   "metadata": {},
   "outputs": [],
   "source": [
    "px.histogram(df_size, 'body_mass_g', nbins=50)"
   ]
  },
  {
   "cell_type": "code",
   "execution_count": null,
   "metadata": {},
   "outputs": [],
   "source": [
    "px.scatter(data_frame=df_size, x='body_mass_g', y='culmen_depth_mm', )"
   ]
  },
  {
   "cell_type": "markdown",
   "metadata": {},
   "source": [
    "## Boxplot\n",
    "**Documentação**: https://matplotlib.org/3.1.1/api/_as_gen/matplotlib.pyplot.boxplot.html"
   ]
  },
  {
   "cell_type": "code",
   "execution_count": null,
   "metadata": {},
   "outputs": [],
   "source": [
    "px.box(data_frame=df_size, y='body_mass_g')"
   ]
  },
  {
   "cell_type": "code",
   "execution_count": null,
   "metadata": {},
   "outputs": [],
   "source": [
    "fig=px.box(data_frame=df_size, x='body_mass_g', orientation='h')\n",
    "\n",
    "fig.update_layout(\n",
    "    xaxis_title=\"Massa Corporal\",\n",
    "    title={\n",
    "        'text': 'Boxplot',\n",
    "        'y':0.95,\n",
    "        'x':0.5,\n",
    "        'font_color': 'grey'\n",
    "    })"
   ]
  },
  {
   "cell_type": "markdown",
   "metadata": {},
   "source": [
    "É possível automaticamente concatenar gráficos"
   ]
  },
  {
   "cell_type": "code",
   "execution_count": null,
   "metadata": {},
   "outputs": [],
   "source": [
    "px.scatter(data_frame=df_size, x='body_mass_g', y='culmen_depth_mm', marginal_x='box')"
   ]
  },
  {
   "cell_type": "markdown",
   "metadata": {},
   "source": [
    "## Exercício\n",
    "Agora é hora de praticar!  \n",
    "  \n",
    "Faremos os mesmos exercícios praticados na aula passada, porém agora com o Plotly, para verificarmos as diferenças entre ambos.\n",
    "  \n",
    "Os bancos obtêm uma receita importante com empréstimos concedidos. Mas muitas vezes está associado ao risco. O mutuário pode não pagar o empréstimo. Para mitigar esse problema, os bancos decidiram usar o Machine Learning para superar esse problema. Eles coletaram dados anteriores sobre os tomadores de empréstimos e gostariam que você desenvolvesse um modelo de ML forte para classificar se algum novo devedor provavelmente entrará em default ou não.  \n",
    "  \n",
    "O conjunto de dados é enorme e consiste em vários fatores determinísticos, como renda do mutuário, gênero, finalidade do empréstimo, etc. O conjunto de dados está sujeito a uma forte multicolinearidade e valores vazios. Você pode superar esses fatores e construir um classificador forte para prever inadimplentes?"
   ]
  },
  {
   "cell_type": "markdown",
   "metadata": {},
   "source": [
    "Importe a base **Loan_Default.csv** que está em csv dentro do diretório **data**."
   ]
  },
  {
   "cell_type": "code",
   "execution_count": null,
   "metadata": {},
   "outputs": [],
   "source": []
  },
  {
   "cell_type": "code",
   "execution_count": null,
   "metadata": {
    "scrolled": true
   },
   "outputs": [],
   "source": []
  },
  {
   "cell_type": "markdown",
   "metadata": {},
   "source": [
    "Verifique com a função .info os campos presentes na tabela"
   ]
  },
  {
   "cell_type": "code",
   "execution_count": null,
   "metadata": {},
   "outputs": [],
   "source": []
  },
  {
   "cell_type": "markdown",
   "metadata": {},
   "source": [
    "Imprima as estatísticas padrões do dataframe com a função .describe"
   ]
  },
  {
   "cell_type": "code",
   "execution_count": null,
   "metadata": {},
   "outputs": [],
   "source": []
  },
  {
   "cell_type": "markdown",
   "metadata": {},
   "source": [
    "### Gráficos"
   ]
  },
  {
   "cell_type": "code",
   "execution_count": null,
   "metadata": {},
   "outputs": [],
   "source": []
  },
  {
   "cell_type": "markdown",
   "metadata": {},
   "source": [
    "1) Verifique sua variável de interesse (Status) como a contagem de distribuição"
   ]
  },
  {
   "cell_type": "code",
   "execution_count": null,
   "metadata": {},
   "outputs": [],
   "source": []
  },
  {
   "cell_type": "markdown",
   "metadata": {},
   "source": [
    "2) Construa um gráfico de barras que permita verificar a Bad Rate (média da coluna Status) por tipo de crédito oferecido (credit_type). "
   ]
  },
  {
   "cell_type": "code",
   "execution_count": null,
   "metadata": {},
   "outputs": [],
   "source": []
  },
  {
   "cell_type": "markdown",
   "metadata": {},
   "source": []
  },
  {
   "cell_type": "markdown",
   "metadata": {},
   "source": [
    "3) Faça um gráfico de dispersão da Credit Score pela média do Status"
   ]
  },
  {
   "cell_type": "code",
   "execution_count": null,
   "metadata": {},
   "outputs": [],
   "source": []
  },
  {
   "cell_type": "markdown",
   "metadata": {},
   "source": []
  },
  {
   "cell_type": "markdown",
   "metadata": {},
   "source": [
    "3) Por meio de um gráfico de dispersão, identifique o comportamento da média da variável de interesse (Status) por faixa etária"
   ]
  },
  {
   "cell_type": "code",
   "execution_count": null,
   "metadata": {},
   "outputs": [],
   "source": []
  },
  {
   "cell_type": "markdown",
   "metadata": {},
   "source": []
  },
  {
   "cell_type": "markdown",
   "metadata": {},
   "source": [
    "4) Construa o histograma do montante de dívida (loan_amount) e verifique como está sua distribuição. Observe o mesmo com um gráfico boxplot."
   ]
  },
  {
   "cell_type": "code",
   "execution_count": null,
   "metadata": {},
   "outputs": [],
   "source": []
  },
  {
   "cell_type": "code",
   "execution_count": null,
   "metadata": {},
   "outputs": [],
   "source": []
  },
  {
   "cell_type": "markdown",
   "metadata": {},
   "source": []
  },
  {
   "cell_type": "markdown",
   "metadata": {},
   "source": [
    "5) Como se encontra a distribuição das faixas-etárias nesta base de dados.  \n",
    "*Obs.: utilize o gráfico de pizza*"
   ]
  },
  {
   "cell_type": "code",
   "execution_count": null,
   "metadata": {},
   "outputs": [],
   "source": []
  },
  {
   "cell_type": "markdown",
   "metadata": {},
   "source": []
  },
  {
   "cell_type": "code",
   "execution_count": null,
   "metadata": {},
   "outputs": [],
   "source": []
  },
  {
   "cell_type": "code",
   "execution_count": null,
   "metadata": {},
   "outputs": [],
   "source": []
  },
  {
   "cell_type": "markdown",
   "metadata": {},
   "source": [
    "**Extra**: Primeiramente imagine uma hipótese de relação entre idade, renda e score de crédito dos indivíduos presenes neste dataframe. Agora, com auxílio gráfico, entenda se a relação que existe está dentro da hipótese ou não."
   ]
  },
  {
   "cell_type": "code",
   "execution_count": null,
   "metadata": {},
   "outputs": [],
   "source": []
  },
  {
   "cell_type": "markdown",
   "metadata": {},
   "source": []
  }
 ],
 "metadata": {
  "kernelspec": {
   "display_name": "Python 3",
   "language": "python",
   "name": "python3"
  },
  "language_info": {
   "codemirror_mode": {
    "name": "ipython",
    "version": 3
   },
   "file_extension": ".py",
   "mimetype": "text/x-python",
   "name": "python",
   "nbconvert_exporter": "python",
   "pygments_lexer": "ipython3",
   "version": "3.8.5"
  }
 },
 "nbformat": 4,
 "nbformat_minor": 5
}

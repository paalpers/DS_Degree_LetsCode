{
 "cells": [
  {
   "cell_type": "markdown",
   "id": "de0fac3c",
   "metadata": {},
   "source": [
    "# Módulo 5 - Técnicas de Programação II\n",
    "## Aula 7\n",
    "- Streamlit\n",
    "- Projeto"
   ]
  },
  {
   "cell_type": "markdown",
   "id": "2ac3ae5f",
   "metadata": {},
   "source": [
    "https://streamlit.io/"
   ]
  },
  {
   "cell_type": "code",
   "execution_count": 2,
   "id": "fa5057ef",
   "metadata": {},
   "outputs": [],
   "source": [
    "#!pip install streamlit"
   ]
  },
  {
   "cell_type": "code",
   "execution_count": 3,
   "id": "aad1c01d",
   "metadata": {},
   "outputs": [
    {
     "name": "stderr",
     "output_type": "stream",
     "text": [
      "2022-02-16 21:03:43.382 INFO    numexpr.utils: NumExpr defaulting to 4 threads.\n",
      "2022-02-16 21:04:01.918 \n",
      "  \u001b[33m\u001b[1mWarning:\u001b[0m to view this Streamlit app on a browser, run it with the following\n",
      "  command:\n",
      "\n",
      "    streamlit run C:\\Users\\Paulo\\anaconda3\\lib\\site-packages\\ipykernel_launcher.py [ARGUMENTS]\n"
     ]
    },
    {
     "name": "stdout",
     "output_type": "stream",
     "text": [
      "\n"
     ]
    }
   ],
   "source": [
    "import streamlit as st\n",
    "import pandas as pd\n",
    "import numpy as np\n",
    "import matplotlib.pyplot as plt\n",
    "import seaborn as sns\n",
    "import plotly.express as px\n",
    "\n",
    "\n",
    "st.title('Dashboard de EDA')\n",
    "\n",
    "# Personalizando o SideBar\n",
    "st.sidebar.title('Menu')\n",
    "\n",
    "#Setup do upload do arquivo\n",
    "arquivo=st.sidebar.file_uploader(\n",
    "    label='Selecione o arquivo csv ou excel',\n",
    "    type=['csv', 'xslx']\n",
    ")\n",
    "\n",
    "if arquivo is not None:\n",
    "    print(arquivo)\n",
    "\n",
    "    try:\n",
    "        df = pd.read_csv(arquivo)\n",
    "        checkbox = st.sidebar.checkbox('Mostrar DataFrame')\n",
    "        numeric_columns = df.select_dtypes(['float64', 'float32', 'int64', 'int32']).columns\n",
    "        if checkbox:\n",
    "            st.subheader('DataFrame')\n",
    "            st.write('Dimensões do DataFrame: '+ str(df.shape[0]) + ' linhas e ' + str(df.shape[1]) + ' colunas')\n",
    "            st.dataframe(df)\n",
    "        corr = st.sidebar.checkbox('Mostrar Heatmap de correlação')\n",
    "        if corr:\n",
    "            st.subheader('Heatmap de correlação entre as variáveis')\n",
    "            fig, ax = plt.subplots()\n",
    "            sns.heatmap(df.corr())\n",
    "            st.pyplot(fig)    \n",
    "    except:\n",
    "        df = pd.read_excel(arquivo)\n",
    "        checkbox = st.sidebar.checkbox('Mostrar DataFrame')\n",
    "        numeric_columns = df.select_dtypes(['float64', 'float32', 'int64', 'int32']).columns\n",
    "        if checkbox:\n",
    "            st.subheader('DataFrame')\n",
    "            st.write('Dimensões do DataFrame: '+ str(df.shape[0]) + 'linhas e ' + str(df.shape[1]) + 'colunas')\n",
    "            st.dataframe(df)\n",
    "        corr = st.sidebar.checkbox('Mostrar Heatmap de correlação')\n",
    "        if corr:\n",
    "            st.subheader('Heatmap de correlação entre as variáveis')\n",
    "            fig, ax = plt.subplots()\n",
    "            sns.heatmap(df.corr())\n",
    "            st.pyplot(fig)  \n",
    "\n",
    "\n",
    "biblioteca = st.sidebar.selectbox('Selecione a biblioteca', ['Matplotlib', 'Seaborn', 'Plotly'])\n",
    "tipo_grafico = st.sidebar.selectbox('Selecione o tipo de gráfico', ['Scatterplots', 'Lineplots', 'Barplots', 'Histogram', 'Boxplot'])\n",
    "\n",
    "try:\n",
    "    if biblioteca=='Matplotlib':\n",
    "        st.write('## Matplotlib')\n",
    "        if tipo_grafico == 'Scatterplots':\n",
    "            st.subheader('Gráfico de Dispersão (Scatterplot)')\n",
    "            st.sidebar.subheader('Configurações do Gráfico de Dispersão (Scatterplot)')\n",
    "            xaxis = st.sidebar.selectbox('Selecione variável do eixo X', options=numeric_columns)\n",
    "            yaxis = st.sidebar.selectbox('Selecione variável do eixo y', options=numeric_columns)\n",
    "\n",
    "            fig, ax = plt.subplots()\n",
    "            plt.scatter(data=df, x= xaxis, y=yaxis)\n",
    "            plt.xlabel(xaxis)\n",
    "            plt.ylabel(yaxis)\n",
    "\n",
    "            st.pyplot(fig)\n",
    "\n",
    "        elif tipo_grafico=='Lineplots':\n",
    "            st.subheader('Gráfico de Linha')\n",
    "            st.sidebar.subheader('Configurações do Gráfico de Linhas')\n",
    "            xaxis = st.sidebar.selectbox('Selecione variável do eixo X', options=df.columns)\n",
    "            yaxis = st.sidebar.selectbox('Selecione variável do eixo y', options=df.columns)\n",
    "\n",
    "            fig, ax = plt.subplots()\n",
    "            plt.plot(df[xaxis], df[yaxis])\n",
    "            plt.xlabel(xaxis)\n",
    "            plt.ylabel(yaxis)\n",
    "\n",
    "            st.pyplot(fig)\n",
    "\n",
    "        elif tipo_grafico=='Barplots':\n",
    "            st.subheader('Gráfico de Barras')\n",
    "            st.sidebar.subheader('Configurações do Gráfico de Barras')\n",
    "            xaxis = st.sidebar.selectbox('Selecione variável do eixo X', options=df.columns)\n",
    "            yaxis = st.sidebar.selectbox('Selecione variável do eixo y', options=numeric_columns)\n",
    "\n",
    "            fig, ax = plt.subplots()\n",
    "            plt.bar(df[xaxis], df[yaxis])\n",
    "            plt.xlabel(xaxis)\n",
    "            plt.ylabel(yaxis)\n",
    "\n",
    "            st.pyplot(fig)\n",
    "            \n",
    "    elif biblioteca=='Plotly':\n",
    "        st.write('## Plotly')\n",
    "        if tipo_grafico == 'Scatterplots':\n",
    "            st.subheader('Gráfico de Dispersão (Scatterplot)')\n",
    "            st.sidebar.subheader('Configurações do Gráfico de Dispersão (Scatterplot)')\n",
    "            xaxis = st.sidebar.selectbox('Selecione variável do eixo X', options=numeric_columns)\n",
    "            yaxis = st.sidebar.selectbox('Selecione variável do eixo y', options=numeric_columns)\n",
    "\n",
    "            plot = px.scatter(data_frame=df, x= xaxis, y=yaxis)\n",
    "            st.plotly_chart(plot)\n",
    "except:\n",
    "    print('')\n",
    "\n"
   ]
  },
  {
   "cell_type": "markdown",
   "id": "da25e583",
   "metadata": {},
   "source": [
    "## Projeto"
   ]
  },
  {
   "cell_type": "markdown",
   "id": "1d6e3a2f",
   "metadata": {},
   "source": [
    "O projeto desde módulo será uma continuidade do desenvolvido no Módulo 4.  \n",
    "* Objetivo: realizar um EDA (Exploratory Data Analysis) implementando gráficos para tornar o resultado visual. Lembre-se de explorar as bibliotecas estudadas neste módulo (Pandas, Matplotlib, Plotly, Seaborn).\n",
    "* O grupo pode utilizar a base do Módulo 4 ou uma nova de sua escolha\n",
    "* Semelhante ao módulo anterior, serão 10 grupos com 4 pessoas e 3 grupos com 5 pessoas\n",
    "* Grupos devem preencher o nome do participante e a base de dados escolhida no link\n",
    "* A apresentação poderá ser construída no formato de preferência\n",
    "* Storytelling\n",
    "* Cada grupo terá no máximo 10 minutos para apresentar o EDA\n",
    "  \n",
    "Obs.: Caso utilizem dados novos, não esqueçam de considerar se as informações são públicas  \n",
    "\n",
    "**Avaliação**  \n",
    "A avaliação também será semelhante ao módulo anterior, serão considerados os seguintes pontos\n",
    "1. Entendimento do contexto em que se encaixa a base de dados\n",
    "2. Uso das bibliotecas apresentadas neste módulo para criação de gráficos\n",
    "3. Apresentação das características do conjunto de dados fornecido, destacando sua visão geral acerca do conjunto de dados e tecendo críticas e comentários\n",
    "4. Uso dos diferentes tipos de gráficos com as variáveis numéricas e categóricas \n",
    "5. Identificação e discussão de missings ou outliers na base de dados\n",
    "6. Necessidade de inclusão de outras informações a fim de enriquecer as análises\n",
    "7. Possibilidade de construção de variáveis novas a partir dos dados presentes"
   ]
  }
 ],
 "metadata": {
  "kernelspec": {
   "display_name": "Python 3 (ipykernel)",
   "language": "python",
   "name": "python3"
  },
  "language_info": {
   "codemirror_mode": {
    "name": "ipython",
    "version": 3
   },
   "file_extension": ".py",
   "mimetype": "text/x-python",
   "name": "python",
   "nbconvert_exporter": "python",
   "pygments_lexer": "ipython3",
   "version": "3.9.7"
  },
  "widgets": {
   "application/vnd.jupyter.widget-state+json": {
    "state": {},
    "version_major": 2,
    "version_minor": 0
   }
  }
 },
 "nbformat": 4,
 "nbformat_minor": 5
}
